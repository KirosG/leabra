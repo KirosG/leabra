{
 "cells": [
  {
   "cell_type": "markdown",
   "metadata": {},
   "source": [
    "# Basic Layer behaviour "
   ]
  },
  {
   "cell_type": "code",
   "execution_count": null,
   "metadata": {
    "collapsed": false
   },
   "outputs": [],
   "source": [
    "import dotdot\n",
    "import leabra\n",
    "import graphs"
   ]
  },
  {
   "cell_type": "code",
   "execution_count": null,
   "metadata": {
    "collapsed": false
   },
   "outputs": [],
   "source": [
    "unit_spec0 = leabra.UnitSpec(adapt_on=True, noisy_act=True)\n",
    "layer_spec0 = leabra.LayerSpec(g_i=0.4, ff=1.0,fb=0.5)\n",
    "connection_spec0 = leabra.ConnectionSpec(proj='1to1')"
   ]
  },
  {
   "cell_type": "code",
   "execution_count": null,
   "metadata": {
    "collapsed": false
   },
   "outputs": [],
   "source": [
    "src_layer = leabra.Layer(10,spec=layer_spec0, unit_spec=unit_spec0)\n",
    "dst_layer = leabra.Layer(10,spec=layer_spec0, unit_spec= unit_spec0)\n",
    "dst_layer.units[0].show_config()\n",
    "dst_layer.show_config()"
   ]
  },
  {
   "cell_type": "code",
   "execution_count": null,
   "metadata": {
    "collapsed": false
   },
   "outputs": [],
   "source": [
    "connection0 = leabra.Connection(src_layer,dst_layer, spec=connection_spec0)"
   ]
  },
  {
   "cell_type": "code",
   "execution_count": null,
   "metadata": {
    "collapsed": true
   },
   "outputs": [],
   "source": [
    "input_pattern = [1.0,0,1.0,0,1.0,0,1.0,0,1.0,0]"
   ]
  },
  {
   "cell_type": "code",
   "execution_count": null,
   "metadata": {
    "collapsed": false
   },
   "outputs": [],
   "source": [
    "for i in range(200):\n",
    "    if ((i >= 10) and (i < 160)):\n",
    "        src_layer.add_excitatory(input_pattern)\n",
    "    else:\n",
    "        src_layer.add_excitatory([0,0,0,0,0,0,0,0,0,0])\n",
    "    src_layer.cycle()\n",
    "    dst_layer.cycle()\n",
    "    print(\"cycle \" + str(i) + \": fbi=\" + str(dst_layer.fbi) + \" ffi=\" + str(dst_layer.ffi) + \" gc_i=\" + str(dst_layer.gc_i) + \" \" + \"\\n\" + str(dst_layer.g_e) + \"\\n\" + str(dst_layer.activities) + \"\\n\")"
   ]
  },
  {
   "cell_type": "code",
   "execution_count": null,
   "metadata": {
    "collapsed": true
   },
   "outputs": [],
   "source": []
  }
 ],
 "metadata": {
  "kernelspec": {
   "display_name": "Python 3",
   "language": "python",
   "name": "python3"
  },
  "language_info": {
   "codemirror_mode": {
    "name": "ipython",
    "version": 3
   },
   "file_extension": ".py",
   "mimetype": "text/x-python",
   "name": "python",
   "nbconvert_exporter": "python",
   "pygments_lexer": "ipython3",
   "version": "3.5.2"
  }
 },
 "nbformat": 4,
 "nbformat_minor": 1
}
