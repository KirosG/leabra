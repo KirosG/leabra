{
 "cells": [
  {
   "cell_type": "markdown",
   "metadata": {},
   "source": [
    "# Leabra Units "
   ]
  },
  {
   "cell_type": "markdown",
   "metadata": {},
   "source": [
    "This notebook recreates the [\"Neuron\" tutorial of Chapter 2 of the CCN textbook](https://grey.colorado.edu/CompCogNeuro/index.php/CCNBook/Sims/Neuron/Neuron). It uses the Leabra framework corresponding to [emergent](https://grey.colorado.edu/emergent) 8.0. "
   ]
  },
  {
   "cell_type": "code",
   "execution_count": 1,
   "metadata": {
    "collapsed": false
   },
   "outputs": [
    {
     "data": {
      "application/javascript": [
       "\n",
       "IPython.OutputArea.prototype._should_scroll = function(lines) {\n",
       "    return false;\n",
       "}\n"
      ],
      "text/plain": [
       "<IPython.core.display.Javascript object>"
      ]
     },
     "metadata": {},
     "output_type": "display_data"
    },
    {
     "data": {
      "text/html": []
     },
     "metadata": {},
     "output_type": "display_data"
    },
    {
     "data": {
      "application/javascript": [
       "\n",
       "(function(global) {\n",
       "  function now() {\n",
       "    return new Date();\n",
       "  }\n",
       "\n",
       "  if (typeof (window._bokeh_onload_callbacks) === \"undefined\") {\n",
       "    window._bokeh_onload_callbacks = [];\n",
       "  }\n",
       "\n",
       "  function run_callbacks() {\n",
       "    window._bokeh_onload_callbacks.forEach(function(callback) { callback() });\n",
       "    delete window._bokeh_onload_callbacks\n",
       "    console.info(\"Bokeh: all callbacks have finished\");\n",
       "  }\n",
       "\n",
       "  function load_libs(js_urls, callback) {\n",
       "    window._bokeh_onload_callbacks.push(callback);\n",
       "    if (window._bokeh_is_loading > 0) {\n",
       "      console.log(\"Bokeh: BokehJS is being loaded, scheduling callback at\", now());\n",
       "      return null;\n",
       "    }\n",
       "    if (js_urls == null || js_urls.length === 0) {\n",
       "      run_callbacks();\n",
       "      return null;\n",
       "    }\n",
       "    console.log(\"Bokeh: BokehJS not loaded, scheduling load and callback at\", now());\n",
       "    window._bokeh_is_loading = js_urls.length;\n",
       "    for (var i = 0; i < js_urls.length; i++) {\n",
       "      var url = js_urls[i];\n",
       "      var s = document.createElement('script');\n",
       "      s.src = url;\n",
       "      s.async = false;\n",
       "      s.onreadystatechange = s.onload = function() {\n",
       "        window._bokeh_is_loading--;\n",
       "        if (window._bokeh_is_loading === 0) {\n",
       "          console.log(\"Bokeh: all BokehJS libraries loaded\");\n",
       "          run_callbacks()\n",
       "        }\n",
       "      };\n",
       "      s.onerror = function() {\n",
       "        console.warn(\"failed to load library \" + url);\n",
       "      };\n",
       "      console.log(\"Bokeh: injecting script tag for BokehJS library: \", url);\n",
       "      document.getElementsByTagName(\"head\")[0].appendChild(s);\n",
       "    }\n",
       "  };\n",
       "\n",
       "  var js_urls = ['https://cdn.pydata.org/bokeh/release/bokeh-0.12.0.min.js', 'https://cdn.pydata.org/bokeh/release/bokeh-widgets-0.12.0.min.js', 'https://cdn.pydata.org/bokeh/release/bokeh-compiler-0.12.0.min.js'];\n",
       "\n",
       "  var inline_js = [\n",
       "    function(Bokeh) {\n",
       "      Bokeh.set_log_level(\"info\");\n",
       "    },\n",
       "    \n",
       "    function(Bokeh) {\n",
       "      Bokeh.$(\"#7ab36916-f7b7-4280-a2cd-a817e7b9abec\").text(\"BokehJS successfully loaded\");\n",
       "    },\n",
       "    function(Bokeh) {\n",
       "      console.log(\"Bokeh: injecting CSS: https://cdn.pydata.org/bokeh/release/bokeh-0.12.0.min.css\");\n",
       "      Bokeh.embed.inject_css(\"https://cdn.pydata.org/bokeh/release/bokeh-0.12.0.min.css\");\n",
       "      console.log(\"Bokeh: injecting CSS: https://cdn.pydata.org/bokeh/release/bokeh-widgets-0.12.0.min.css\");\n",
       "      Bokeh.embed.inject_css(\"https://cdn.pydata.org/bokeh/release/bokeh-widgets-0.12.0.min.css\");\n",
       "    }\n",
       "  ];\n",
       "\n",
       "  function run_inline_js() {\n",
       "    for (var i = 0; i < inline_js.length; i++) {\n",
       "      inline_js[i](window.Bokeh);\n",
       "    }\n",
       "  }\n",
       "\n",
       "  if (window._bokeh_is_loading === 0) {\n",
       "    console.log(\"Bokeh: BokehJS loaded, going straight to plotting\");\n",
       "    run_inline_js();\n",
       "  } else {\n",
       "    load_libs(js_urls, function() {\n",
       "      console.log(\"Bokeh: BokehJS plotting callback run at\", now());\n",
       "      run_inline_js();\n",
       "    });\n",
       "  }\n",
       "}(this));"
      ]
     },
     "metadata": {},
     "output_type": "display_data"
    }
   ],
   "source": [
    "import dotdot\n",
    "import leabra\n",
    "import graphs"
   ]
  },
  {
   "cell_type": "code",
   "execution_count": 2,
   "metadata": {
    "collapsed": true
   },
   "outputs": [],
   "source": [
    "receiver = leabra.Unit()"
   ]
  },
  {
   "cell_type": "code",
   "execution_count": 3,
   "metadata": {
    "collapsed": false
   },
   "outputs": [
    {
     "name": "stdout",
     "output_type": "stream",
     "text": [
      "Constants:\n",
      "   dt_vm: 0.10\n",
      "   dt_net: 0.70\n",
      "   g_l: 1.00\n",
      "   g_bar_e: 0.40\n",
      "   g_bar_l: 2.80\n",
      "   g_bar_i: 1.00\n",
      "   e_rev_e: 1.00\n",
      "   e_rev_l: 0.15\n",
      "   e_rev_i: 0.15\n",
      "   act_thr: 0.25\n",
      "   act_gain: 600.00\n",
      "State:\n",
      "   g_e: 0.00\n",
      "   I_net: 0.00\n",
      "   v_m: 0.15\n",
      "   act: 0.00\n"
     ]
    }
   ],
   "source": [
    "receiver.show_config()"
   ]
  },
  {
   "cell_type": "markdown",
   "metadata": {},
   "source": [
    "To make things as simple as possible, we do not use a sender unit or a network instance. Instead, we manually provide inputs to the receiver unit. The simulation last 200ms. All inputs are 0.0, exepts every input between 10ms and 160ms, which are 1.0."
   ]
  },
  {
   "cell_type": "code",
   "execution_count": 4,
   "metadata": {
    "collapsed": false
   },
   "outputs": [],
   "source": [
    "inputs = 10*[0.0] + 150*[1.0] + 40*[0.0]\n",
    "\n",
    "for g_e in inputs:\n",
    "    receiver.add_excitatory(g_e)\n",
    "    receiver.cycle()"
   ]
  },
  {
   "cell_type": "markdown",
   "metadata": {},
   "source": [
    "We can monitor the excitatory input the unit receives (`net`), its membrane potential (`v_m`), its total conductance (`I_net`) and its ouput activity (`act`). "
   ]
  },
  {
   "cell_type": "code",
   "execution_count": 5,
   "metadata": {
    "collapsed": false
   },
   "outputs": [
    {
     "data": {
      "text/html": [
       "\n",
       "\n",
       "    <div class=\"bk-root\">\n",
       "        <div class=\"plotdiv\" id=\"59c20293-8a5e-4e26-9265-675c5008ca87\"></div>\n",
       "    </div>\n",
       "<script type=\"text/javascript\">\n",
       "  \n",
       "  (function(global) {\n",
       "    function now() {\n",
       "      return new Date();\n",
       "    }\n",
       "  \n",
       "    if (typeof (window._bokeh_onload_callbacks) === \"undefined\") {\n",
       "      window._bokeh_onload_callbacks = [];\n",
       "    }\n",
       "  \n",
       "    function run_callbacks() {\n",
       "      window._bokeh_onload_callbacks.forEach(function(callback) { callback() });\n",
       "      delete window._bokeh_onload_callbacks\n",
       "      console.info(\"Bokeh: all callbacks have finished\");\n",
       "    }\n",
       "  \n",
       "    function load_libs(js_urls, callback) {\n",
       "      window._bokeh_onload_callbacks.push(callback);\n",
       "      if (window._bokeh_is_loading > 0) {\n",
       "        console.log(\"Bokeh: BokehJS is being loaded, scheduling callback at\", now());\n",
       "        return null;\n",
       "      }\n",
       "      if (js_urls == null || js_urls.length === 0) {\n",
       "        run_callbacks();\n",
       "        return null;\n",
       "      }\n",
       "      console.log(\"Bokeh: BokehJS not loaded, scheduling load and callback at\", now());\n",
       "      window._bokeh_is_loading = js_urls.length;\n",
       "      for (var i = 0; i < js_urls.length; i++) {\n",
       "        var url = js_urls[i];\n",
       "        var s = document.createElement('script');\n",
       "        s.src = url;\n",
       "        s.async = false;\n",
       "        s.onreadystatechange = s.onload = function() {\n",
       "          window._bokeh_is_loading--;\n",
       "          if (window._bokeh_is_loading === 0) {\n",
       "            console.log(\"Bokeh: all BokehJS libraries loaded\");\n",
       "            run_callbacks()\n",
       "          }\n",
       "        };\n",
       "        s.onerror = function() {\n",
       "          console.warn(\"failed to load library \" + url);\n",
       "        };\n",
       "        console.log(\"Bokeh: injecting script tag for BokehJS library: \", url);\n",
       "        document.getElementsByTagName(\"head\")[0].appendChild(s);\n",
       "      }\n",
       "    };var element = document.getElementById(\"59c20293-8a5e-4e26-9265-675c5008ca87\");\n",
       "    if (element == null) {\n",
       "      console.log(\"Bokeh: ERROR: autoload.js configured with elementid '59c20293-8a5e-4e26-9265-675c5008ca87' but no matching script tag was found. \")\n",
       "      return false;\n",
       "    }\n",
       "  \n",
       "    var js_urls = [];\n",
       "  \n",
       "    var inline_js = [\n",
       "      function(Bokeh) {\n",
       "        Bokeh.$(function() {\n",
       "            var docs_json = {\"a1741c8c-ad7e-49ef-8e19-e1cb00087756\":{\"roots\":{\"references\":[{\"attributes\":{\"data_source\":{\"id\":\"492d63ef-2c42-4266-80cd-4ef5cd754a4b\",\"type\":\"ColumnDataSource\"},\"glyph\":{\"id\":\"5ab977cd-2e99-4939-90b9-6c9673362ab6\",\"type\":\"Line\"},\"hover_glyph\":null,\"nonselection_glyph\":{\"id\":\"46846ec0-f356-425b-bde8-0a3f2f6b643c\",\"type\":\"Line\"},\"selection_glyph\":null},\"id\":\"4748fbf7-fa34-4857-8af2-510e8edc3fcd\",\"type\":\"GlyphRenderer\"},{\"attributes\":{\"callback\":null,\"column_names\":[\"y\",\"x\"],\"data\":{\"x\":[0,1,2,3,4,5,6,7,8,9,10,11,12,13,14,15,16,17,18,19,20,21,22,23,24,25,26,27,28,29,30,31,32,33,34,35,36,37,38,39,40,41,42,43,44,45,46,47,48,49,50,51,52,53,54,55,56,57,58,59,60,61,62,63,64,65,66,67,68,69,70,71,72,73,74,75,76,77,78,79,80,81,82,83,84,85,86,87,88,89,90,91,92,93,94,95,96,97,98,99,100,101,102,103,104,105,106,107,108,109,110,111,112,113,114,115,116,117,118,119,120,121,122,123,124,125,126,127,128,129,130,131,132,133,134,135,136,137,138,139,140,141,142,143,144,145,146,147,148,149,150,151,152,153,154,155,156,157,158,159,160,161,162,163,164,165,166,167,168,169,170,171,172,173,174,175,176,177,178,179,180,181,182,183,184,185,186,187,188,189,190,191,192,193,194,195,196,197,198,199,200],\"y\":[0.0,0.0,0.0,0.0,0.0,0.0,0.0,0.0,0.0,0.0,0.0,0.0,0.0,0.0,0.0,0.0,0.0,0.1033254117616049,0.5610190942145095,0.6741542046419038,0.7227493808423006,0.7482785440645886,0.7631115278595579,0.7722380133379201,0.7780526264401301,0.7818398840347769,0.7843422410716215,0.7860113083736464,0.7871315945229374,0.7878867127755972,0.7883971404615443,0.7887428303888069,0.7889772550930277,0.7891363669406577,0.789244426012727,0.7893178429423933,0.7893677372447724,0.7894016518738555,0.7894247075839992,0.7894403825836103,0.7894510402504268,0.7894582868476179,0.7894632142487874,0.7894665647498459,0.7894688430296531,0.7894703922317565,0.7894714456761641,0.7894721620123389,0.7894726491181542,0.789472980348821,0.789473205585079,0.7894733587454595,0.78947346289439,0.7894735337156038,0.7894735818740024,0.7894736146217005,0.7894736368901301,0.7894736520326585,0.7894736623295768,0.7894736693314807,0.7894736740927756,0.7894736773304564,0.7894736795320785,0.7894736810291828,0.7894736820472124,0.7894736827394735,0.7894736832102105,0.789473683530312,0.7894736837479801,0.7894736838959954,0.7894736839966455,0.7894736840650879,0.789473684111628,0.7894736841432761,0.7894736841647961,0.7894736841794295,0.7894736841893807,0.7894736841961476,0.7894736842007489,0.789473684203877,0.7894736842060042,0.7894736842074509,0.7894736842084354,0.7894736842091042,0.7894736842095589,0.7894736842098687,0.7894736842100799,0.789473684210223,0.7894736842103206,0.789473684210387,0.7894736842104313,0.7894736842104623,0.7894736842104828,0.7894736842104962,0.7894736842105065,0.7894736842105123,0.7894736842105169,0.7894736842105198,0.7894736842105213,0.7894736842105228,0.7894736842105242,0.7894736842105258,0.7894736842105258,0.7894736842105258,0.7894736842105258,0.7894736842105258,0.7894736842105258,0.7894736842105258,0.7894736842105258,0.7894736842105258,0.7894736842105258,0.7894736842105258,0.7894736842105258,0.7894736842105258,0.7894736842105258,0.7894736842105258,0.7894736842105258,0.7894736842105258,0.7894736842105258,0.7894736842105258,0.7894736842105258,0.7894736842105258,0.7894736842105258,0.7894736842105258,0.7894736842105258,0.7894736842105258,0.7894736842105258,0.7894736842105258,0.7894736842105258,0.7894736842105258,0.7894736842105258,0.7894736842105258,0.7894736842105258,0.7894736842105258,0.7894736842105258,0.7894736842105258,0.7894736842105258,0.7894736842105258,0.7894736842105258,0.7894736842105258,0.7894736842105258,0.7894736842105258,0.7894736842105258,0.7894736842105258,0.7894736842105258,0.7894736842105258,0.7894736842105258,0.7894736842105258,0.7894736842105258,0.7894736842105258,0.7894736842105258,0.7894736842105258,0.7894736842105258,0.7894736842105258,0.7894736842105258,0.7894736842105258,0.7894736842105258,0.7894736842105258,0.7894736842105258,0.7894736842105258,0.0,0.0,0.0,0.0,0.0,0.0,0.0,0.0,0.0,0.0,0.0,0.0,0.0,0.0,0.0,0.0,0.0,0.0,0.0,0.0,0.0,0.0,0.0,0.0,0.0,0.0,0.0,0.0,0.0,0.0,0.0,0.0,0.0,0.0,0.0,0.0,0.0,0.0,0.0,0.0]}},\"id\":\"eb15bab8-a9f7-4ccb-8a6e-1d6838d74459\",\"type\":\"ColumnDataSource\"},{\"attributes\":{\"line_alpha\":{\"value\":0.1},\"line_color\":{\"value\":\"#1f77b4\"},\"line_width\":{\"value\":2},\"x\":{\"field\":\"x\"},\"y\":{\"field\":\"y\"}},\"id\":\"14e27a56-0e76-4fc7-9dcc-8444e9fd6cef\",\"type\":\"Line\"},{\"attributes\":{},\"id\":\"1d62d993-2c68-43e3-b22d-4e4e7526fdfa\",\"type\":\"BasicTicker\"},{\"attributes\":{\"below\":[{\"id\":\"2816b3ca-0489-4f97-8227-56af2697f496\",\"type\":\"LinearAxis\"}],\"left\":[{\"id\":\"0ab92df4-bd93-4d6a-a64e-178c8e0b560e\",\"type\":\"LinearAxis\"}],\"min_border_bottom\":35,\"min_border_left\":35,\"min_border_right\":35,\"min_border_top\":35,\"plot_height\":400,\"plot_width\":400,\"renderers\":[{\"id\":\"2816b3ca-0489-4f97-8227-56af2697f496\",\"type\":\"LinearAxis\"},{\"id\":\"2f8565a5-3fa9-4df5-959c-a8023fb08b17\",\"type\":\"Grid\"},{\"id\":\"0ab92df4-bd93-4d6a-a64e-178c8e0b560e\",\"type\":\"LinearAxis\"},{\"id\":\"ddd826b8-a8b1-4e61-8f01-7b0ed81ce411\",\"type\":\"Grid\"},{\"id\":\"398dcdf2-c427-4309-9020-2a4b773af291\",\"type\":\"GlyphRenderer\"},{\"id\":\"3ee7d68e-1e26-4674-896a-f7d8f58f414c\",\"type\":\"GlyphRenderer\"},{\"id\":\"4748fbf7-fa34-4857-8af2-510e8edc3fcd\",\"type\":\"GlyphRenderer\"},{\"id\":\"0c017ca3-0aa6-4276-86e3-a075862ff9e7\",\"type\":\"GlyphRenderer\"},{\"id\":\"7f26ebec-ab05-40ca-a88c-533a8508c824\",\"type\":\"Legend\"}],\"right\":[{\"id\":\"7f26ebec-ab05-40ca-a88c-533a8508c824\",\"type\":\"Legend\"}],\"title\":{\"id\":\"169642d2-4bfa-4ec3-a348-c97c12aea6ba\",\"type\":\"Title\"},\"tool_events\":{\"id\":\"caf88991-f6d8-4936-9149-5058d3fe36dd\",\"type\":\"ToolEvents\"},\"toolbar\":{\"id\":\"e64c7423-20f7-4512-9b8f-870c9af7bc04\",\"type\":\"Toolbar\"},\"x_range\":{\"id\":\"6800cf42-6090-48e1-8e16-28191574d123\",\"type\":\"Range1d\"},\"y_range\":{\"id\":\"fd3440f3-74d4-4b0a-9e5a-93417dfcd3e1\",\"type\":\"Range1d\"}},\"id\":\"fac3b3fb-5d03-49d5-a344-c7be3e2e83e8\",\"subtype\":\"Figure\",\"type\":\"Plot\"},{\"attributes\":{\"line_color\":{\"value\":\"orange\"},\"line_width\":{\"value\":2},\"x\":{\"field\":\"x\"},\"y\":{\"field\":\"y\"}},\"id\":\"5ab977cd-2e99-4939-90b9-6c9673362ab6\",\"type\":\"Line\"},{\"attributes\":{\"dimension\":1,\"grid_line_color\":{\"value\":null},\"plot\":{\"id\":\"fac3b3fb-5d03-49d5-a344-c7be3e2e83e8\",\"subtype\":\"Figure\",\"type\":\"Plot\"},\"ticker\":{\"id\":\"0a802c96-07cc-4108-9733-11a15571cb1f\",\"type\":\"BasicTicker\"}},\"id\":\"ddd826b8-a8b1-4e61-8f01-7b0ed81ce411\",\"type\":\"Grid\"},{\"attributes\":{\"plot\":null,\"text\":\"Unit activity\"},\"id\":\"169642d2-4bfa-4ec3-a348-c97c12aea6ba\",\"type\":\"Title\"},{\"attributes\":{\"line_color\":{\"value\":\"green\"},\"line_width\":{\"value\":2},\"x\":{\"field\":\"x\"},\"y\":{\"field\":\"y\"}},\"id\":\"851410e2-c3d5-4b09-892f-884566c4a22d\",\"type\":\"Line\"},{\"attributes\":{\"line_color\":{\"value\":\"yellow\"},\"line_width\":{\"value\":2},\"x\":{\"field\":\"x\"},\"y\":{\"field\":\"y\"}},\"id\":\"7fdea489-1d70-4374-a2ac-c16248e83b2c\",\"type\":\"Line\"},{\"attributes\":{\"line_color\":{\"value\":\"red\"},\"line_width\":{\"value\":2},\"x\":{\"field\":\"x\"},\"y\":{\"field\":\"y\"}},\"id\":\"075afbf9-7740-4b96-8cce-5533174ddffe\",\"type\":\"Line\"},{\"attributes\":{\"line_alpha\":{\"value\":0.1},\"line_color\":{\"value\":\"#1f77b4\"},\"line_width\":{\"value\":2},\"x\":{\"field\":\"x\"},\"y\":{\"field\":\"y\"}},\"id\":\"17bc7e1d-d959-4131-95da-bd4637125759\",\"type\":\"Line\"},{\"attributes\":{\"data_source\":{\"id\":\"9f7b00d8-4247-4067-bbf3-219541e79d22\",\"type\":\"ColumnDataSource\"},\"glyph\":{\"id\":\"7fdea489-1d70-4374-a2ac-c16248e83b2c\",\"type\":\"Line\"},\"hover_glyph\":null,\"nonselection_glyph\":{\"id\":\"c4fe7e7c-febe-4320-bc02-75f332e95316\",\"type\":\"Line\"},\"selection_glyph\":null},\"id\":\"3ee7d68e-1e26-4674-896a-f7d8f58f414c\",\"type\":\"GlyphRenderer\"},{\"attributes\":{},\"id\":\"1973f2c0-1312-4542-a0aa-393393bee69b\",\"type\":\"BasicTickFormatter\"},{\"attributes\":{\"callback\":null,\"column_names\":[\"y\",\"x\"],\"data\":{\"x\":[0,1,2,3,4,5,6,7,8,9,10,11,12,13,14,15,16,17,18,19,20,21,22,23,24,25,26,27,28,29,30,31,32,33,34,35,36,37,38,39,40,41,42,43,44,45,46,47,48,49,50,51,52,53,54,55,56,57,58,59,60,61,62,63,64,65,66,67,68,69,70,71,72,73,74,75,76,77,78,79,80,81,82,83,84,85,86,87,88,89,90,91,92,93,94,95,96,97,98,99,100,101,102,103,104,105,106,107,108,109,110,111,112,113,114,115,116,117,118,119,120,121,122,123,124,125,126,127,128,129,130,131,132,133,134,135,136,137,138,139,140,141,142,143,144,145,146,147,148,149,150,151,152,153,154,155,156,157,158,159,160,161,162,163,164,165,166,167,168,169,170,171,172,173,174,175,176,177,178,179,180,181,182,183,184,185,186,187,188,189,190,191,192,193,194,195,196,197,198,199,200],\"y\":[0.0,0.0,0.0,0.0,0.0,0.0,0.0,0.0,0.0,0.0,0.23799999999999996,0.23409680000000005,0.18025888854399996,0.12870354290900832,0.08931076489233458,0.06125912115858376,0.04181247429026341,0.02847893792597267,0.01937952710161933,0.013182215378017892,0.008965143898436223,0.0060966683398537835,0.004145845466078046,0.002819208184478006,0.0019170715393947435,0.0013036116376853868,0.00088645681063243,0.0006027909002782605,0.00040989789289286316,0.0002787305913758975,0.0001895368093978722,0.00012888503256902606,8.764182280046606e-05,5.95964397003268e-05,4.052557905498411e-05,2.7557393775023975e-05,1.873902777227432e-05,1.2742538886723054e-05,8.664926443413545e-06,5.892149981645556e-06,4.006661987521198e-06,2.7245301514322584e-06,1.8526805029561721e-06,1.2598227420168584e-06,8.566794645337161e-07,5.825420358318567e-07,3.961285844344964e-07,2.693674373555055e-07,1.8316985750388426e-07,1.245555030782164e-07,8.469774204211689e-08,5.7594464586419036e-08,3.916423585437201e-08,2.6631680416500103e-08,1.8109542754274344e-08,1.2314489095111014e-08,8.373852611320842e-09,5.6942197623754964e-09,3.872069498367381e-09,2.633007312180524e-09,1.7904450699823826e-09,1.2175026542493583e-09,8.279017471579664e-10,5.629732791057052e-10,3.828216632584258e-10,2.6031876654286634e-10,1.770166790926453e-10,1.2037137953058163e-10,8.185246924696798e-11,5.5659754583103904e-11,3.784855762134498e-11,2.5737023623406685e-11,1.7501111670981118e-11,1.190075815671321e-11,8.092471137643997e-12,5.50287593270582e-12,3.74200670449909e-12,2.5445201501383963e-12,1.7302825838783065e-12,1.1765033391952784e-12,8.001377338473503e-13,5.441203043687892e-13,3.700373341075647e-13,2.5163204853129173e-13,1.7108536809473662e-13,1.1640688413194766e-13,7.915890165577366e-14,5.3734794391857577e-14,3.652633751016765e-14,2.475797344914099e-14,1.6764367671839864e-14,1.1435297153639112e-14,7.66053886991358e-15,5.2735593669694936e-15,3.6637359812630166e-15,2.3869795029440866e-15,1.7208456881689926e-15,1.1657341758564144e-15,7.771561172376096e-16,5.551115123125783e-16,4.440892098500626e-16,2.7755575615628914e-16,1.1102230246251565e-16,1.1102230246251565e-16,1.1102230246251565e-16,1.1102230246251565e-16,1.1102230246251565e-16,1.1102230246251565e-16,1.1102230246251565e-16,1.1102230246251565e-16,1.1102230246251565e-16,1.1102230246251565e-16,1.1102230246251565e-16,1.1102230246251565e-16,1.1102230246251565e-16,1.1102230246251565e-16,1.1102230246251565e-16,1.1102230246251565e-16,1.1102230246251565e-16,1.1102230246251565e-16,1.1102230246251565e-16,1.1102230246251565e-16,1.1102230246251565e-16,1.1102230246251565e-16,1.1102230246251565e-16,1.1102230246251565e-16,1.1102230246251565e-16,1.1102230246251565e-16,1.1102230246251565e-16,1.1102230246251565e-16,1.1102230246251565e-16,1.1102230246251565e-16,1.1102230246251565e-16,1.1102230246251565e-16,1.1102230246251565e-16,1.1102230246251565e-16,1.1102230246251565e-16,1.1102230246251565e-16,1.1102230246251565e-16,1.1102230246251565e-16,1.1102230246251565e-16,1.1102230246251565e-16,1.1102230246251565e-16,1.1102230246251565e-16,1.1102230246251565e-16,1.1102230246251565e-16,1.1102230246251565e-16,1.1102230246251565e-16,1.1102230246251565e-16,1.1102230246251565e-16,1.1102230246251565e-16,1.1102230246251565e-16,1.1102230246251565e-16,1.1102230246251565e-16,1.1102230246251565e-16,1.1102230246251565e-16,1.1102230246251565e-16,1.1102230246251565e-16,1.1102230246251565e-16,1.1102230246251565e-16,-0.2082499999999999,-0.21166529999999997,-0.171437707476,-0.12931980953229777,-0.0949186368398634,-0.06889373277572067,-0.04977134701890047,-0.03588619974217405,-0.025853415146935333,-0.018619086453014005,-0.013407135297483393,-0.009653556363904069,-0.006950686490366234,-0.005004532093835866,-0.003603274464219087,-0.0025943610234868257,-0.0018679409601716599,-0.0013449177984070362,-0.0009683409070007773,-0.000697205480689781,-0.0005019879543924767,-0.00036143132965157075,-0.0002602305580958785,-0.00018736600205305123,-0.00013490352154544162,-9.713053553291439e-05,-6.993398558973714e-05,-5.035246962642395e-05,-3.6253778131600604e-05,-2.6102720254946805e-05,-1.879395858359732e-05,-1.3531650180214433e-05,-9.74278812979434e-06,-7.014807453430959e-06,-5.050661366445659e-06,-3.6364761838658154e-06,-2.618262852405169e-06,-1.8851492537441625e-06,-1.3573074627237764e-06,-9.772613731362507e-07]}},\"id\":\"492d63ef-2c42-4266-80cd-4ef5cd754a4b\",\"type\":\"ColumnDataSource\"},{\"attributes\":{\"grid_line_color\":{\"value\":null},\"plot\":{\"id\":\"fac3b3fb-5d03-49d5-a344-c7be3e2e83e8\",\"subtype\":\"Figure\",\"type\":\"Plot\"},\"ticker\":{\"id\":\"1d62d993-2c68-43e3-b22d-4e4e7526fdfa\",\"type\":\"BasicTicker\"}},\"id\":\"2f8565a5-3fa9-4df5-959c-a8023fb08b17\",\"type\":\"Grid\"},{\"attributes\":{\"callback\":null,\"start\":-0.5},\"id\":\"fd3440f3-74d4-4b0a-9e5a-93417dfcd3e1\",\"type\":\"Range1d\"},{\"attributes\":{},\"id\":\"0a802c96-07cc-4108-9733-11a15571cb1f\",\"type\":\"BasicTicker\"},{\"attributes\":{\"line_alpha\":{\"value\":0.1},\"line_color\":{\"value\":\"#1f77b4\"},\"line_width\":{\"value\":2},\"x\":{\"field\":\"x\"},\"y\":{\"field\":\"y\"}},\"id\":\"c4fe7e7c-febe-4320-bc02-75f332e95316\",\"type\":\"Line\"},{\"attributes\":{},\"id\":\"4b2f6c3a-0ccf-455f-a593-41cfbf17782f\",\"type\":\"BasicTickFormatter\"},{\"attributes\":{\"active_drag\":\"auto\",\"active_scroll\":\"auto\",\"active_tap\":\"auto\",\"logo\":null},\"id\":\"e64c7423-20f7-4512-9b8f-870c9af7bc04\",\"type\":\"Toolbar\"},{\"attributes\":{\"data_source\":{\"id\":\"eb15bab8-a9f7-4ccb-8a6e-1d6838d74459\",\"type\":\"ColumnDataSource\"},\"glyph\":{\"id\":\"851410e2-c3d5-4b09-892f-884566c4a22d\",\"type\":\"Line\"},\"hover_glyph\":null,\"nonselection_glyph\":{\"id\":\"17bc7e1d-d959-4131-95da-bd4637125759\",\"type\":\"Line\"},\"selection_glyph\":null},\"id\":\"0c017ca3-0aa6-4276-86e3-a075862ff9e7\",\"type\":\"GlyphRenderer\"},{\"attributes\":{\"callback\":null,\"column_names\":[\"y\",\"x\"],\"data\":{\"x\":[0,1,2,3,4,5,6,7,8,9,10,11,12,13,14,15,16,17,18,19,20,21,22,23,24,25,26,27,28,29,30,31,32,33,34,35,36,37,38,39,40,41,42,43,44,45,46,47,48,49,50,51,52,53,54,55,56,57,58,59,60,61,62,63,64,65,66,67,68,69,70,71,72,73,74,75,76,77,78,79,80,81,82,83,84,85,86,87,88,89,90,91,92,93,94,95,96,97,98,99,100,101,102,103,104,105,106,107,108,109,110,111,112,113,114,115,116,117,118,119,120,121,122,123,124,125,126,127,128,129,130,131,132,133,134,135,136,137,138,139,140,141,142,143,144,145,146,147,148,149,150,151,152,153,154,155,156,157,158,159,160,161,162,163,164,165,166,167,168,169,170,171,172,173,174,175,176,177,178,179,180,181,182,183,184,185,186,187,188,189,190,191,192,193,194,195,196,197,198,199,200],\"y\":[0.15,0.15,0.15,0.15,0.15,0.15,0.15,0.15,0.15,0.15,0.17379999999999998,0.19720968,0.21523556885439998,0.22810592314530082,0.23703699963453428,0.24316291175039267,0.24734415917941902,0.2501920529720163,0.25213000568217825,0.25344822721998006,0.2543447416098237,0.25495440844380907,0.2553689929904169,0.2556509138088647,0.25584262096280413,0.25597298212657266,0.2560616278076359,0.25612190689766373,0.256162896686953,0.2561907697460906,0.2562097234270304,0.25622261193028734,0.2562313761125674,0.25623733575653745,0.25624138831444293,0.25624414405382046,0.2562460179565977,0.25624729221048637,0.2562481587031307,0.2562487479181289,0.2562491485843277,0.25624942103734283,0.2562496063053931,0.25624973228766734,0.2562498179556138,0.2562498762098174,0.2562499158226758,0.25624994275941954,0.2562499610764053,0.2562499735319556,0.2562499820017298,0.2562499877611763,0.2562499916775999,0.2562499943407679,0.25624999615172217,0.25624999738317106,0.25624999822055633,0.2562499987899783,0.2562499991771852,0.25624999944048593,0.25624999961953043,0.2562499997412807,0.2562499998240709,0.25624999988036823,0.2562499999186504,0.2562499999446823,0.25624999996238396,0.2562499999744211,0.25624999998260634,0.25624999998817233,0.2562499999919572,0.2562499999945309,0.256249999996281,0.2562499999974711,0.25624999999828035,0.25624999999883064,0.25624999999920484,0.2562499999994593,0.2562499999996323,0.25624999999974996,0.25624999999982995,0.25624999999988435,0.2562499999999214,0.2562499999999465,0.2562499999999636,0.2562499999999753,0.2562499999999832,0.2562499999999886,0.25624999999999226,0.25624999999999476,0.2562499999999964,0.2562499999999976,0.25624999999999837,0.25624999999999887,0.25624999999999926,0.2562499999999995,0.25624999999999964,0.25624999999999976,0.2562499999999998,0.25624999999999987,0.2562499999999999,0.25625,0.25625,0.25625,0.25625,0.25625,0.25625,0.25625,0.25625,0.25625,0.25625,0.25625,0.25625,0.25625,0.25625,0.25625,0.25625,0.25625,0.25625,0.25625,0.25625,0.25625,0.25625,0.25625,0.25625,0.25625,0.25625,0.25625,0.25625,0.25625,0.25625,0.25625,0.25625,0.25625,0.25625,0.25625,0.25625,0.25625,0.25625,0.25625,0.25625,0.25625,0.25625,0.25625,0.25625,0.25625,0.25625,0.25625,0.25625,0.25625,0.25625,0.25625,0.25625,0.25625,0.25625,0.25625,0.25625,0.25625,0.25625,0.25625,0.235425,0.21425847,0.1971146992524,0.1841827182991702,0.17469085461518388,0.1678014813376118,0.16282434663572176,0.15923572666150435,0.15665038514681082,0.15478847650150943,0.15344776297176108,0.15248240733537066,0.15178733868633404,0.15128688547695046,0.15092655803052854,0.15066712192817985,0.1504803278321627,0.150345836052322,0.15024900196162191,0.15017928141355294,0.1501290826181137,0.15009293948514854,0.15006691642933895,0.15004817982913365,0.15003468947697912,0.15002497642342583,0.15001798302486685,0.15001294777790422,0.15000932240009107,0.15000671212806557,0.15000483273220722,0.1500034795671892,0.15000250528837622,0.15000180380763087,0.15000129874149423,0.15000093509387585,0.15000067326759062,0.15000048475266525,0.15000034902191897,0.15000025129578165]}},\"id\":\"9f7b00d8-4247-4067-bbf3-219541e79d22\",\"type\":\"ColumnDataSource\"},{\"attributes\":{\"callback\":null,\"end\":200},\"id\":\"6800cf42-6090-48e1-8e16-28191574d123\",\"type\":\"Range1d\"},{\"attributes\":{\"formatter\":{\"id\":\"1973f2c0-1312-4542-a0aa-393393bee69b\",\"type\":\"BasicTickFormatter\"},\"major_tick_in\":0,\"minor_tick_line_color\":{\"value\":null},\"plot\":{\"id\":\"fac3b3fb-5d03-49d5-a344-c7be3e2e83e8\",\"subtype\":\"Figure\",\"type\":\"Plot\"},\"ticker\":{\"id\":\"1d62d993-2c68-43e3-b22d-4e4e7526fdfa\",\"type\":\"BasicTicker\"}},\"id\":\"2816b3ca-0489-4f97-8227-56af2697f496\",\"type\":\"LinearAxis\"},{\"attributes\":{\"formatter\":{\"id\":\"4b2f6c3a-0ccf-455f-a593-41cfbf17782f\",\"type\":\"BasicTickFormatter\"},\"major_tick_in\":0,\"minor_tick_line_color\":{\"value\":null},\"plot\":{\"id\":\"fac3b3fb-5d03-49d5-a344-c7be3e2e83e8\",\"subtype\":\"Figure\",\"type\":\"Plot\"},\"ticker\":{\"id\":\"0a802c96-07cc-4108-9733-11a15571cb1f\",\"type\":\"BasicTicker\"}},\"id\":\"0ab92df4-bd93-4d6a-a64e-178c8e0b560e\",\"type\":\"LinearAxis\"},{\"attributes\":{\"data_source\":{\"id\":\"9724a006-df97-4004-9098-1d1462caf2d2\",\"type\":\"ColumnDataSource\"},\"glyph\":{\"id\":\"075afbf9-7740-4b96-8cce-5533174ddffe\",\"type\":\"Line\"},\"hover_glyph\":null,\"nonselection_glyph\":{\"id\":\"14e27a56-0e76-4fc7-9dcc-8444e9fd6cef\",\"type\":\"Line\"},\"selection_glyph\":null},\"id\":\"398dcdf2-c427-4309-9020-2a4b773af291\",\"type\":\"GlyphRenderer\"},{\"attributes\":{},\"id\":\"caf88991-f6d8-4936-9149-5058d3fe36dd\",\"type\":\"ToolEvents\"},{\"attributes\":{\"callback\":null,\"column_names\":[\"y\",\"x\"],\"data\":{\"x\":[0,1,2,3,4,5,6,7,8,9,10,11,12,13,14,15,16,17,18,19,20,21,22,23,24,25,26,27,28,29,30,31,32,33,34,35,36,37,38,39,40,41,42,43,44,45,46,47,48,49,50,51,52,53,54,55,56,57,58,59,60,61,62,63,64,65,66,67,68,69,70,71,72,73,74,75,76,77,78,79,80,81,82,83,84,85,86,87,88,89,90,91,92,93,94,95,96,97,98,99,100,101,102,103,104,105,106,107,108,109,110,111,112,113,114,115,116,117,118,119,120,121,122,123,124,125,126,127,128,129,130,131,132,133,134,135,136,137,138,139,140,141,142,143,144,145,146,147,148,149,150,151,152,153,154,155,156,157,158,159,160,161,162,163,164,165,166,167,168,169,170,171,172,173,174,175,176,177,178,179,180,181,182,183,184,185,186,187,188,189,190,191,192,193,194,195,196,197,198,199,200],\"y\":[0.0,0.0,0.0,0.0,0.0,0.0,0.0,0.0,0.0,0.0,0.27999999999999997,0.364,0.3892,0.39676,0.399028,0.3997084,0.39991252,0.399973756,0.3999921268,0.39999763804000005,0.399999291412,0.39999978742360004,0.39999993622708,0.39999998086812405,0.39999999426043725,0.3999999982781312,0.39999999948343934,0.3999999998450318,0.39999999995350954,0.39999999998605285,0.39999999999581587,0.39999999999874475,0.39999999999962343,0.39999999999988706,0.39999999999996616,0.39999999999998986,0.39999999999999697,0.3999999999999991,0.39999999999999974,0.3999999999999999,0.39999999999999997,0.4,0.4,0.4,0.4,0.4,0.4,0.4,0.4,0.4,0.4,0.4,0.4,0.4,0.4,0.4,0.4,0.4,0.4,0.4,0.4,0.4,0.4,0.4,0.4,0.4,0.4,0.4,0.4,0.4,0.4,0.4,0.4,0.4,0.4,0.4,0.4,0.4,0.4,0.4,0.4,0.4,0.4,0.4,0.4,0.4,0.4,0.4,0.4,0.4,0.4,0.4,0.4,0.4,0.4,0.4,0.4,0.4,0.4,0.4,0.4,0.4,0.4,0.4,0.4,0.4,0.4,0.4,0.4,0.4,0.4,0.4,0.4,0.4,0.4,0.4,0.4,0.4,0.4,0.4,0.4,0.4,0.4,0.4,0.4,0.4,0.4,0.4,0.4,0.4,0.4,0.4,0.4,0.4,0.4,0.4,0.4,0.4,0.4,0.4,0.4,0.4,0.4,0.4,0.4,0.4,0.4,0.4,0.4,0.4,0.4,0.4,0.4,0.4,0.4,0.4,0.4,0.4,0.4,0.4,0.12000000000000002,0.03600000000000001,0.010800000000000004,0.0032400000000000016,0.0009720000000000006,0.0002916000000000002,8.748000000000008e-05,2.624400000000003e-05,7.87320000000001e-06,2.3619600000000027e-06,7.085880000000008e-07,2.1257640000000024e-07,6.377292000000008e-08,1.913187600000003e-08,5.73956280000001e-09,1.721868840000003e-09,5.165606520000009e-10,1.5496819560000032e-10,4.6490458680000106e-11,1.3947137604000035e-11,4.184141281200011e-12,1.2552423843600034e-12,3.7657271530800114e-13,1.1297181459240037e-13,3.389154437772012e-14,1.0167463313316038e-14,3.050238993994812e-15,9.150716981984438e-16,2.745215094595332e-16,8.235645283785997e-17,2.4706935851358e-17,7.412080755407402e-18,2.223624226622221e-18,6.670872679866665e-19,2.0012618039599997e-19,6.00378541188e-20,1.8011356235640006e-20,5.403406870692003e-21,1.6210220612076012e-21,4.863066183622804e-22]}},\"id\":\"9724a006-df97-4004-9098-1d1462caf2d2\",\"type\":\"ColumnDataSource\"},{\"attributes\":{\"line_alpha\":{\"value\":0.1},\"line_color\":{\"value\":\"#1f77b4\"},\"line_width\":{\"value\":2},\"x\":{\"field\":\"x\"},\"y\":{\"field\":\"y\"}},\"id\":\"46846ec0-f356-425b-bde8-0a3f2f6b643c\",\"type\":\"Line\"},{\"attributes\":{\"legends\":[[\"net\",[{\"id\":\"398dcdf2-c427-4309-9020-2a4b773af291\",\"type\":\"GlyphRenderer\"}]],[\"v_m\",[{\"id\":\"3ee7d68e-1e26-4674-896a-f7d8f58f414c\",\"type\":\"GlyphRenderer\"}]],[\"I_net\",[{\"id\":\"4748fbf7-fa34-4857-8af2-510e8edc3fcd\",\"type\":\"GlyphRenderer\"}]],[\"act\",[{\"id\":\"0c017ca3-0aa6-4276-86e3-a075862ff9e7\",\"type\":\"GlyphRenderer\"}]]],\"location\":[10,-40],\"plot\":{\"id\":\"fac3b3fb-5d03-49d5-a344-c7be3e2e83e8\",\"subtype\":\"Figure\",\"type\":\"Plot\"}},\"id\":\"7f26ebec-ab05-40ca-a88c-533a8508c824\",\"type\":\"Legend\"}],\"root_ids\":[\"fac3b3fb-5d03-49d5-a344-c7be3e2e83e8\"]},\"title\":\"Bokeh Application\",\"version\":\"0.12.0\"}};\n",
       "            var render_items = [{\"docid\":\"a1741c8c-ad7e-49ef-8e19-e1cb00087756\",\"elementid\":\"59c20293-8a5e-4e26-9265-675c5008ca87\",\"modelid\":\"fac3b3fb-5d03-49d5-a344-c7be3e2e83e8\",\"notebook_comms_target\":\"26258118-26fb-4a35-b67e-886a8d3d67b8\"}];\n",
       "            \n",
       "            Bokeh.embed.embed_items(docs_json, render_items);\n",
       "        });\n",
       "      },\n",
       "      function(Bokeh) {\n",
       "      }\n",
       "    ];\n",
       "  \n",
       "    function run_inline_js() {\n",
       "      for (var i = 0; i < inline_js.length; i++) {\n",
       "        inline_js[i](window.Bokeh);\n",
       "      }\n",
       "    }\n",
       "  \n",
       "    if (window._bokeh_is_loading === 0) {\n",
       "      console.log(\"Bokeh: BokehJS loaded, going straight to plotting\");\n",
       "      run_inline_js();\n",
       "    } else {\n",
       "      load_libs(js_urls, function() {\n",
       "        console.log(\"Bokeh: BokehJS plotting callback run at\", now());\n",
       "        run_inline_js();\n",
       "      });\n",
       "    }\n",
       "  }(this));\n",
       "</script>"
      ]
     },
     "metadata": {},
     "output_type": "display_data"
    }
   ],
   "source": [
    "graphs.unit_activity(receiver.logs)"
   ]
  },
  {
   "cell_type": "markdown",
   "metadata": {},
   "source": [
    "## Manipulating Parameters"
   ]
  },
  {
   "cell_type": "markdown",
   "metadata": {},
   "source": [
    "You can use sliders to easily modify the `g_e_bar`, `g_l_bar`, `e_rev_e` and `e_rev_l`as in the [CECN1 tutorial](https://grey.colorado.edu/CompCogNeuro/index.php/CECN1_Units#Manipulating_Parameters). Do refer to the tutorial for a discussion about interesting this to try with those parameters."
   ]
  },
  {
   "cell_type": "code",
   "execution_count": 6,
   "metadata": {
    "collapsed": false
   },
   "outputs": [
    {
     "data": {
      "text/html": [
       "\n",
       "\n",
       "    <div class=\"bk-root\">\n",
       "        <div class=\"plotdiv\" id=\"4bbe151d-7251-4725-9a3f-5294f5b1d4fc\"></div>\n",
       "    </div>\n",
       "<script type=\"text/javascript\">\n",
       "  \n",
       "  (function(global) {\n",
       "    function now() {\n",
       "      return new Date();\n",
       "    }\n",
       "  \n",
       "    if (typeof (window._bokeh_onload_callbacks) === \"undefined\") {\n",
       "      window._bokeh_onload_callbacks = [];\n",
       "    }\n",
       "  \n",
       "    function run_callbacks() {\n",
       "      window._bokeh_onload_callbacks.forEach(function(callback) { callback() });\n",
       "      delete window._bokeh_onload_callbacks\n",
       "      console.info(\"Bokeh: all callbacks have finished\");\n",
       "    }\n",
       "  \n",
       "    function load_libs(js_urls, callback) {\n",
       "      window._bokeh_onload_callbacks.push(callback);\n",
       "      if (window._bokeh_is_loading > 0) {\n",
       "        console.log(\"Bokeh: BokehJS is being loaded, scheduling callback at\", now());\n",
       "        return null;\n",
       "      }\n",
       "      if (js_urls == null || js_urls.length === 0) {\n",
       "        run_callbacks();\n",
       "        return null;\n",
       "      }\n",
       "      console.log(\"Bokeh: BokehJS not loaded, scheduling load and callback at\", now());\n",
       "      window._bokeh_is_loading = js_urls.length;\n",
       "      for (var i = 0; i < js_urls.length; i++) {\n",
       "        var url = js_urls[i];\n",
       "        var s = document.createElement('script');\n",
       "        s.src = url;\n",
       "        s.async = false;\n",
       "        s.onreadystatechange = s.onload = function() {\n",
       "          window._bokeh_is_loading--;\n",
       "          if (window._bokeh_is_loading === 0) {\n",
       "            console.log(\"Bokeh: all BokehJS libraries loaded\");\n",
       "            run_callbacks()\n",
       "          }\n",
       "        };\n",
       "        s.onerror = function() {\n",
       "          console.warn(\"failed to load library \" + url);\n",
       "        };\n",
       "        console.log(\"Bokeh: injecting script tag for BokehJS library: \", url);\n",
       "        document.getElementsByTagName(\"head\")[0].appendChild(s);\n",
       "      }\n",
       "    };var element = document.getElementById(\"4bbe151d-7251-4725-9a3f-5294f5b1d4fc\");\n",
       "    if (element == null) {\n",
       "      console.log(\"Bokeh: ERROR: autoload.js configured with elementid '4bbe151d-7251-4725-9a3f-5294f5b1d4fc' but no matching script tag was found. \")\n",
       "      return false;\n",
       "    }\n",
       "  \n",
       "    var js_urls = [];\n",
       "  \n",
       "    var inline_js = [\n",
       "      function(Bokeh) {\n",
       "        Bokeh.$(function() {\n",
       "            var docs_json = {\"89d4352b-74ea-4674-94b7-4745e5cf84a4\":{\"roots\":{\"references\":[{\"attributes\":{\"plot\":null,\"text\":\"Unit activity\"},\"id\":\"90999dc0-910a-4143-9caa-711f08299609\",\"type\":\"Title\"},{\"attributes\":{\"formatter\":{\"id\":\"bd0bc52f-9f99-4955-9f70-9ab5359b3a02\",\"type\":\"BasicTickFormatter\"},\"major_tick_in\":0,\"minor_tick_line_color\":{\"value\":null},\"plot\":{\"id\":\"a12cc216-5390-4f0b-8861-b66efcc60021\",\"subtype\":\"Figure\",\"type\":\"Plot\"},\"ticker\":{\"id\":\"f8a4d9d7-1d66-497e-89e8-55dee8a857ea\",\"type\":\"BasicTicker\"}},\"id\":\"d089b763-39a7-4e45-a396-b6546cc9e8d3\",\"type\":\"LinearAxis\"},{\"attributes\":{\"line_color\":{\"value\":\"red\"},\"line_width\":{\"value\":2},\"x\":{\"field\":\"x\"},\"y\":{\"field\":\"y\"}},\"id\":\"67be9deb-7fdb-4e37-b35e-61e0e1c83a29\",\"type\":\"Line\"},{\"attributes\":{\"callback\":null,\"column_names\":[\"y\",\"x\"],\"data\":{\"x\":[0,1,2,3,4,5,6,7,8,9,10,11,12,13,14,15,16,17,18,19,20,21,22,23,24,25,26,27,28,29,30,31,32,33,34,35,36,37,38,39,40,41,42,43,44,45,46,47,48,49,50,51,52,53,54,55,56,57,58,59,60,61,62,63,64,65,66,67,68,69,70,71,72,73,74,75,76,77,78,79,80,81,82,83,84,85,86,87,88,89,90,91,92,93,94,95,96,97,98,99,100,101,102,103,104,105,106,107,108,109,110,111,112,113,114,115,116,117,118,119,120,121,122,123,124,125,126,127,128,129,130,131,132,133,134,135,136,137,138,139,140,141,142,143,144,145,146,147,148,149,150,151,152,153,154,155,156,157,158,159,160,161,162,163,164,165,166,167,168,169,170,171,172,173,174,175,176,177,178,179,180,181,182,183,184,185,186,187,188,189,190,191,192,193,194,195,196,197,198,199,200],\"y\":[0.15,0.15,0.15,0.15,0.15,0.15,0.15,0.15,0.15,0.15,0.17379999999999998,0.19720968,0.21523556885439998,0.22810592314530082,0.23703699963453428,0.24316291175039267,0.24734415917941902,0.2501920529720163,0.25213000568217825,0.25344822721998006,0.2543447416098237,0.25495440844380907,0.2553689929904169,0.2556509138088647,0.25584262096280413,0.25597298212657266,0.2560616278076359,0.25612190689766373,0.256162896686953,0.2561907697460906,0.2562097234270304,0.25622261193028734,0.2562313761125674,0.25623733575653745,0.25624138831444293,0.25624414405382046,0.2562460179565977,0.25624729221048637,0.2562481587031307,0.2562487479181289,0.2562491485843277,0.25624942103734283,0.2562496063053931,0.25624973228766734,0.2562498179556138,0.2562498762098174,0.2562499158226758,0.25624994275941954,0.2562499610764053,0.2562499735319556,0.2562499820017298,0.2562499877611763,0.2562499916775999,0.2562499943407679,0.25624999615172217,0.25624999738317106,0.25624999822055633,0.2562499987899783,0.2562499991771852,0.25624999944048593,0.25624999961953043,0.2562499997412807,0.2562499998240709,0.25624999988036823,0.2562499999186504,0.2562499999446823,0.25624999996238396,0.2562499999744211,0.25624999998260634,0.25624999998817233,0.2562499999919572,0.2562499999945309,0.256249999996281,0.2562499999974711,0.25624999999828035,0.25624999999883064,0.25624999999920484,0.2562499999994593,0.2562499999996323,0.25624999999974996,0.25624999999982995,0.25624999999988435,0.2562499999999214,0.2562499999999465,0.2562499999999636,0.2562499999999753,0.2562499999999832,0.2562499999999886,0.25624999999999226,0.25624999999999476,0.2562499999999964,0.2562499999999976,0.25624999999999837,0.25624999999999887,0.25624999999999926,0.2562499999999995,0.25624999999999964,0.25624999999999976,0.2562499999999998,0.25624999999999987,0.2562499999999999,0.25625,0.25625,0.25625,0.25625,0.25625,0.25625,0.25625,0.25625,0.25625,0.25625,0.25625,0.25625,0.25625,0.25625,0.25625,0.25625,0.25625,0.25625,0.25625,0.25625,0.25625,0.25625,0.25625,0.25625,0.25625,0.25625,0.25625,0.25625,0.25625,0.25625,0.25625,0.25625,0.25625,0.25625,0.25625,0.25625,0.25625,0.25625,0.25625,0.25625,0.25625,0.25625,0.25625,0.25625,0.25625,0.25625,0.25625,0.25625,0.25625,0.25625,0.25625,0.25625,0.25625,0.25625,0.25625,0.25625,0.25625,0.25625,0.25625,0.235425,0.21425847,0.1971146992524,0.1841827182991702,0.17469085461518388,0.1678014813376118,0.16282434663572176,0.15923572666150435,0.15665038514681082,0.15478847650150943,0.15344776297176108,0.15248240733537066,0.15178733868633404,0.15128688547695046,0.15092655803052854,0.15066712192817985,0.1504803278321627,0.150345836052322,0.15024900196162191,0.15017928141355294,0.1501290826181137,0.15009293948514854,0.15006691642933895,0.15004817982913365,0.15003468947697912,0.15002497642342583,0.15001798302486685,0.15001294777790422,0.15000932240009107,0.15000671212806557,0.15000483273220722,0.1500034795671892,0.15000250528837622,0.15000180380763087,0.15000129874149423,0.15000093509387585,0.15000067326759062,0.15000048475266525,0.15000034902191897,0.15000025129578165]}},\"id\":\"2ee9c62a-722d-4f09-bbe1-bfe71c014110\",\"type\":\"ColumnDataSource\"},{\"attributes\":{\"callback\":null,\"start\":-0.5},\"id\":\"fa33bcc6-9c4f-4c9d-b421-ad9a656f83a0\",\"type\":\"Range1d\"},{\"attributes\":{},\"id\":\"a657cc02-ec57-46ee-afdb-8e992d24b41d\",\"type\":\"BasicTickFormatter\"},{\"attributes\":{\"line_alpha\":{\"value\":0.1},\"line_color\":{\"value\":\"#1f77b4\"},\"line_width\":{\"value\":2},\"x\":{\"field\":\"x\"},\"y\":{\"field\":\"y\"}},\"id\":\"48c3001f-2235-40a8-ba99-20621d8d0d93\",\"type\":\"Line\"},{\"attributes\":{\"dimension\":1,\"grid_line_color\":{\"value\":null},\"plot\":{\"id\":\"a12cc216-5390-4f0b-8861-b66efcc60021\",\"subtype\":\"Figure\",\"type\":\"Plot\"},\"ticker\":{\"id\":\"f8a4d9d7-1d66-497e-89e8-55dee8a857ea\",\"type\":\"BasicTicker\"}},\"id\":\"f549aca2-ca4c-4c36-b216-aaf374714d2e\",\"type\":\"Grid\"},{\"attributes\":{\"below\":[{\"id\":\"8b1d5b0d-98d7-4952-b09b-5d8b4dc97a5d\",\"type\":\"LinearAxis\"}],\"left\":[{\"id\":\"d089b763-39a7-4e45-a396-b6546cc9e8d3\",\"type\":\"LinearAxis\"}],\"min_border_bottom\":35,\"min_border_left\":35,\"min_border_right\":35,\"min_border_top\":35,\"plot_height\":400,\"plot_width\":400,\"renderers\":[{\"id\":\"8b1d5b0d-98d7-4952-b09b-5d8b4dc97a5d\",\"type\":\"LinearAxis\"},{\"id\":\"697619a9-a2f4-4a59-b26a-903bda5ab1fd\",\"type\":\"Grid\"},{\"id\":\"d089b763-39a7-4e45-a396-b6546cc9e8d3\",\"type\":\"LinearAxis\"},{\"id\":\"f549aca2-ca4c-4c36-b216-aaf374714d2e\",\"type\":\"Grid\"},{\"id\":\"d2dc4c69-ff7d-4a48-83f5-fdfdee5a763a\",\"type\":\"GlyphRenderer\"},{\"id\":\"05b579de-1c33-484a-9107-73f15a967788\",\"type\":\"GlyphRenderer\"},{\"id\":\"f6a2e153-ca11-4c55-a3b6-989ea9551966\",\"type\":\"GlyphRenderer\"},{\"id\":\"6f19a164-b3b6-420b-99ca-4a9433283628\",\"type\":\"GlyphRenderer\"},{\"id\":\"60229965-c571-435f-b873-1234ba1e64ac\",\"type\":\"Legend\"}],\"right\":[{\"id\":\"60229965-c571-435f-b873-1234ba1e64ac\",\"type\":\"Legend\"}],\"title\":{\"id\":\"90999dc0-910a-4143-9caa-711f08299609\",\"type\":\"Title\"},\"tool_events\":{\"id\":\"a4b52a03-7207-49d7-8507-e9b2aad87b89\",\"type\":\"ToolEvents\"},\"toolbar\":{\"id\":\"6df9c9bf-a14c-46f9-b3d2-62956971a1b1\",\"type\":\"Toolbar\"},\"x_range\":{\"id\":\"49c74692-d4aa-44e3-be36-e42ae6a9adf3\",\"type\":\"Range1d\"},\"y_range\":{\"id\":\"fa33bcc6-9c4f-4c9d-b421-ad9a656f83a0\",\"type\":\"Range1d\"}},\"id\":\"a12cc216-5390-4f0b-8861-b66efcc60021\",\"subtype\":\"Figure\",\"type\":\"Plot\"},{\"attributes\":{},\"id\":\"a6c70141-840a-4375-94bf-1117d64c0cba\",\"type\":\"BasicTicker\"},{\"attributes\":{\"data_source\":{\"id\":\"acdb9940-a8cb-49ce-9ef6-0e5022c4dbd1\",\"type\":\"ColumnDataSource\"},\"glyph\":{\"id\":\"67be9deb-7fdb-4e37-b35e-61e0e1c83a29\",\"type\":\"Line\"},\"hover_glyph\":null,\"nonselection_glyph\":{\"id\":\"92ce5833-5484-47af-b3f7-425a2a0f70f3\",\"type\":\"Line\"},\"selection_glyph\":null},\"id\":\"d2dc4c69-ff7d-4a48-83f5-fdfdee5a763a\",\"type\":\"GlyphRenderer\"},{\"attributes\":{\"callback\":null,\"end\":200},\"id\":\"49c74692-d4aa-44e3-be36-e42ae6a9adf3\",\"type\":\"Range1d\"},{\"attributes\":{\"active_drag\":\"auto\",\"active_scroll\":\"auto\",\"active_tap\":\"auto\",\"logo\":null},\"id\":\"6df9c9bf-a14c-46f9-b3d2-62956971a1b1\",\"type\":\"Toolbar\"},{\"attributes\":{\"line_color\":{\"value\":\"orange\"},\"line_width\":{\"value\":2},\"x\":{\"field\":\"x\"},\"y\":{\"field\":\"y\"}},\"id\":\"dc9914c1-ebdd-4ad6-b563-84aff61c13bc\",\"type\":\"Line\"},{\"attributes\":{\"legends\":[[\"net\",[{\"id\":\"d2dc4c69-ff7d-4a48-83f5-fdfdee5a763a\",\"type\":\"GlyphRenderer\"}]],[\"v_m\",[{\"id\":\"05b579de-1c33-484a-9107-73f15a967788\",\"type\":\"GlyphRenderer\"}]],[\"I_net\",[{\"id\":\"f6a2e153-ca11-4c55-a3b6-989ea9551966\",\"type\":\"GlyphRenderer\"}]],[\"act\",[{\"id\":\"6f19a164-b3b6-420b-99ca-4a9433283628\",\"type\":\"GlyphRenderer\"}]]],\"location\":[10,-40],\"plot\":{\"id\":\"a12cc216-5390-4f0b-8861-b66efcc60021\",\"subtype\":\"Figure\",\"type\":\"Plot\"}},\"id\":\"60229965-c571-435f-b873-1234ba1e64ac\",\"type\":\"Legend\"},{\"attributes\":{\"data_source\":{\"id\":\"76d4c3ed-4f8b-4fae-a62e-5dec59a5e85b\",\"type\":\"ColumnDataSource\"},\"glyph\":{\"id\":\"5224e32c-1034-40cc-9940-4d15543936db\",\"type\":\"Line\"},\"hover_glyph\":null,\"nonselection_glyph\":{\"id\":\"48c3001f-2235-40a8-ba99-20621d8d0d93\",\"type\":\"Line\"},\"selection_glyph\":null},\"id\":\"6f19a164-b3b6-420b-99ca-4a9433283628\",\"type\":\"GlyphRenderer\"},{\"attributes\":{\"line_alpha\":{\"value\":0.1},\"line_color\":{\"value\":\"#1f77b4\"},\"line_width\":{\"value\":2},\"x\":{\"field\":\"x\"},\"y\":{\"field\":\"y\"}},\"id\":\"481763d1-9b0f-46ef-8245-4f678f114984\",\"type\":\"Line\"},{\"attributes\":{\"line_color\":{\"value\":\"green\"},\"line_width\":{\"value\":2},\"x\":{\"field\":\"x\"},\"y\":{\"field\":\"y\"}},\"id\":\"5224e32c-1034-40cc-9940-4d15543936db\",\"type\":\"Line\"},{\"attributes\":{},\"id\":\"a4b52a03-7207-49d7-8507-e9b2aad87b89\",\"type\":\"ToolEvents\"},{\"attributes\":{},\"id\":\"bd0bc52f-9f99-4955-9f70-9ab5359b3a02\",\"type\":\"BasicTickFormatter\"},{\"attributes\":{},\"id\":\"f8a4d9d7-1d66-497e-89e8-55dee8a857ea\",\"type\":\"BasicTicker\"},{\"attributes\":{\"formatter\":{\"id\":\"a657cc02-ec57-46ee-afdb-8e992d24b41d\",\"type\":\"BasicTickFormatter\"},\"major_tick_in\":0,\"minor_tick_line_color\":{\"value\":null},\"plot\":{\"id\":\"a12cc216-5390-4f0b-8861-b66efcc60021\",\"subtype\":\"Figure\",\"type\":\"Plot\"},\"ticker\":{\"id\":\"a6c70141-840a-4375-94bf-1117d64c0cba\",\"type\":\"BasicTicker\"}},\"id\":\"8b1d5b0d-98d7-4952-b09b-5d8b4dc97a5d\",\"type\":\"LinearAxis\"},{\"attributes\":{\"data_source\":{\"id\":\"2ee9c62a-722d-4f09-bbe1-bfe71c014110\",\"type\":\"ColumnDataSource\"},\"glyph\":{\"id\":\"12b03ab5-0643-44c2-858e-8998636d02f9\",\"type\":\"Line\"},\"hover_glyph\":null,\"nonselection_glyph\":{\"id\":\"481763d1-9b0f-46ef-8245-4f678f114984\",\"type\":\"Line\"},\"selection_glyph\":null},\"id\":\"05b579de-1c33-484a-9107-73f15a967788\",\"type\":\"GlyphRenderer\"},{\"attributes\":{\"callback\":null,\"column_names\":[\"y\",\"x\"],\"data\":{\"x\":[0,1,2,3,4,5,6,7,8,9,10,11,12,13,14,15,16,17,18,19,20,21,22,23,24,25,26,27,28,29,30,31,32,33,34,35,36,37,38,39,40,41,42,43,44,45,46,47,48,49,50,51,52,53,54,55,56,57,58,59,60,61,62,63,64,65,66,67,68,69,70,71,72,73,74,75,76,77,78,79,80,81,82,83,84,85,86,87,88,89,90,91,92,93,94,95,96,97,98,99,100,101,102,103,104,105,106,107,108,109,110,111,112,113,114,115,116,117,118,119,120,121,122,123,124,125,126,127,128,129,130,131,132,133,134,135,136,137,138,139,140,141,142,143,144,145,146,147,148,149,150,151,152,153,154,155,156,157,158,159,160,161,162,163,164,165,166,167,168,169,170,171,172,173,174,175,176,177,178,179,180,181,182,183,184,185,186,187,188,189,190,191,192,193,194,195,196,197,198,199,200],\"y\":[0.0,0.0,0.0,0.0,0.0,0.0,0.0,0.0,0.0,0.0,0.23799999999999996,0.23409680000000005,0.18025888854399996,0.12870354290900832,0.08931076489233458,0.06125912115858376,0.04181247429026341,0.02847893792597267,0.01937952710161933,0.013182215378017892,0.008965143898436223,0.0060966683398537835,0.004145845466078046,0.002819208184478006,0.0019170715393947435,0.0013036116376853868,0.00088645681063243,0.0006027909002782605,0.00040989789289286316,0.0002787305913758975,0.0001895368093978722,0.00012888503256902606,8.764182280046606e-05,5.95964397003268e-05,4.052557905498411e-05,2.7557393775023975e-05,1.873902777227432e-05,1.2742538886723054e-05,8.664926443413545e-06,5.892149981645556e-06,4.006661987521198e-06,2.7245301514322584e-06,1.8526805029561721e-06,1.2598227420168584e-06,8.566794645337161e-07,5.825420358318567e-07,3.961285844344964e-07,2.693674373555055e-07,1.8316985750388426e-07,1.245555030782164e-07,8.469774204211689e-08,5.7594464586419036e-08,3.916423585437201e-08,2.6631680416500103e-08,1.8109542754274344e-08,1.2314489095111014e-08,8.373852611320842e-09,5.6942197623754964e-09,3.872069498367381e-09,2.633007312180524e-09,1.7904450699823826e-09,1.2175026542493583e-09,8.279017471579664e-10,5.629732791057052e-10,3.828216632584258e-10,2.6031876654286634e-10,1.770166790926453e-10,1.2037137953058163e-10,8.185246924696798e-11,5.5659754583103904e-11,3.784855762134498e-11,2.5737023623406685e-11,1.7501111670981118e-11,1.190075815671321e-11,8.092471137643997e-12,5.50287593270582e-12,3.74200670449909e-12,2.5445201501383963e-12,1.7302825838783065e-12,1.1765033391952784e-12,8.001377338473503e-13,5.441203043687892e-13,3.700373341075647e-13,2.5163204853129173e-13,1.7108536809473662e-13,1.1640688413194766e-13,7.915890165577366e-14,5.3734794391857577e-14,3.652633751016765e-14,2.475797344914099e-14,1.6764367671839864e-14,1.1435297153639112e-14,7.66053886991358e-15,5.2735593669694936e-15,3.6637359812630166e-15,2.3869795029440866e-15,1.7208456881689926e-15,1.1657341758564144e-15,7.771561172376096e-16,5.551115123125783e-16,4.440892098500626e-16,2.7755575615628914e-16,1.1102230246251565e-16,1.1102230246251565e-16,1.1102230246251565e-16,1.1102230246251565e-16,1.1102230246251565e-16,1.1102230246251565e-16,1.1102230246251565e-16,1.1102230246251565e-16,1.1102230246251565e-16,1.1102230246251565e-16,1.1102230246251565e-16,1.1102230246251565e-16,1.1102230246251565e-16,1.1102230246251565e-16,1.1102230246251565e-16,1.1102230246251565e-16,1.1102230246251565e-16,1.1102230246251565e-16,1.1102230246251565e-16,1.1102230246251565e-16,1.1102230246251565e-16,1.1102230246251565e-16,1.1102230246251565e-16,1.1102230246251565e-16,1.1102230246251565e-16,1.1102230246251565e-16,1.1102230246251565e-16,1.1102230246251565e-16,1.1102230246251565e-16,1.1102230246251565e-16,1.1102230246251565e-16,1.1102230246251565e-16,1.1102230246251565e-16,1.1102230246251565e-16,1.1102230246251565e-16,1.1102230246251565e-16,1.1102230246251565e-16,1.1102230246251565e-16,1.1102230246251565e-16,1.1102230246251565e-16,1.1102230246251565e-16,1.1102230246251565e-16,1.1102230246251565e-16,1.1102230246251565e-16,1.1102230246251565e-16,1.1102230246251565e-16,1.1102230246251565e-16,1.1102230246251565e-16,1.1102230246251565e-16,1.1102230246251565e-16,1.1102230246251565e-16,1.1102230246251565e-16,1.1102230246251565e-16,1.1102230246251565e-16,1.1102230246251565e-16,1.1102230246251565e-16,1.1102230246251565e-16,1.1102230246251565e-16,-0.2082499999999999,-0.21166529999999997,-0.171437707476,-0.12931980953229777,-0.0949186368398634,-0.06889373277572067,-0.04977134701890047,-0.03588619974217405,-0.025853415146935333,-0.018619086453014005,-0.013407135297483393,-0.009653556363904069,-0.006950686490366234,-0.005004532093835866,-0.003603274464219087,-0.0025943610234868257,-0.0018679409601716599,-0.0013449177984070362,-0.0009683409070007773,-0.000697205480689781,-0.0005019879543924767,-0.00036143132965157075,-0.0002602305580958785,-0.00018736600205305123,-0.00013490352154544162,-9.713053553291439e-05,-6.993398558973714e-05,-5.035246962642395e-05,-3.6253778131600604e-05,-2.6102720254946805e-05,-1.879395858359732e-05,-1.3531650180214433e-05,-9.74278812979434e-06,-7.014807453430959e-06,-5.050661366445659e-06,-3.6364761838658154e-06,-2.618262852405169e-06,-1.8851492537441625e-06,-1.3573074627237764e-06,-9.772613731362507e-07]}},\"id\":\"c2f5bd55-ff1d-410d-85bd-b2eab64c9901\",\"type\":\"ColumnDataSource\"},{\"attributes\":{\"line_alpha\":{\"value\":0.1},\"line_color\":{\"value\":\"#1f77b4\"},\"line_width\":{\"value\":2},\"x\":{\"field\":\"x\"},\"y\":{\"field\":\"y\"}},\"id\":\"92ce5833-5484-47af-b3f7-425a2a0f70f3\",\"type\":\"Line\"},{\"attributes\":{\"grid_line_color\":{\"value\":null},\"plot\":{\"id\":\"a12cc216-5390-4f0b-8861-b66efcc60021\",\"subtype\":\"Figure\",\"type\":\"Plot\"},\"ticker\":{\"id\":\"a6c70141-840a-4375-94bf-1117d64c0cba\",\"type\":\"BasicTicker\"}},\"id\":\"697619a9-a2f4-4a59-b26a-903bda5ab1fd\",\"type\":\"Grid\"},{\"attributes\":{\"callback\":null,\"column_names\":[\"y\",\"x\"],\"data\":{\"x\":[0,1,2,3,4,5,6,7,8,9,10,11,12,13,14,15,16,17,18,19,20,21,22,23,24,25,26,27,28,29,30,31,32,33,34,35,36,37,38,39,40,41,42,43,44,45,46,47,48,49,50,51,52,53,54,55,56,57,58,59,60,61,62,63,64,65,66,67,68,69,70,71,72,73,74,75,76,77,78,79,80,81,82,83,84,85,86,87,88,89,90,91,92,93,94,95,96,97,98,99,100,101,102,103,104,105,106,107,108,109,110,111,112,113,114,115,116,117,118,119,120,121,122,123,124,125,126,127,128,129,130,131,132,133,134,135,136,137,138,139,140,141,142,143,144,145,146,147,148,149,150,151,152,153,154,155,156,157,158,159,160,161,162,163,164,165,166,167,168,169,170,171,172,173,174,175,176,177,178,179,180,181,182,183,184,185,186,187,188,189,190,191,192,193,194,195,196,197,198,199,200],\"y\":[0.0,0.0,0.0,0.0,0.0,0.0,0.0,0.0,0.0,0.0,0.0,0.0,0.0,0.0,0.0,0.0,0.0,0.1033254117616049,0.5610190942145095,0.6741542046419038,0.7227493808423006,0.7482785440645886,0.7631115278595579,0.7722380133379201,0.7780526264401301,0.7818398840347769,0.7843422410716215,0.7860113083736464,0.7871315945229374,0.7878867127755972,0.7883971404615443,0.7887428303888069,0.7889772550930277,0.7891363669406577,0.789244426012727,0.7893178429423933,0.7893677372447724,0.7894016518738555,0.7894247075839992,0.7894403825836103,0.7894510402504268,0.7894582868476179,0.7894632142487874,0.7894665647498459,0.7894688430296531,0.7894703922317565,0.7894714456761641,0.7894721620123389,0.7894726491181542,0.789472980348821,0.789473205585079,0.7894733587454595,0.78947346289439,0.7894735337156038,0.7894735818740024,0.7894736146217005,0.7894736368901301,0.7894736520326585,0.7894736623295768,0.7894736693314807,0.7894736740927756,0.7894736773304564,0.7894736795320785,0.7894736810291828,0.7894736820472124,0.7894736827394735,0.7894736832102105,0.789473683530312,0.7894736837479801,0.7894736838959954,0.7894736839966455,0.7894736840650879,0.789473684111628,0.7894736841432761,0.7894736841647961,0.7894736841794295,0.7894736841893807,0.7894736841961476,0.7894736842007489,0.789473684203877,0.7894736842060042,0.7894736842074509,0.7894736842084354,0.7894736842091042,0.7894736842095589,0.7894736842098687,0.7894736842100799,0.789473684210223,0.7894736842103206,0.789473684210387,0.7894736842104313,0.7894736842104623,0.7894736842104828,0.7894736842104962,0.7894736842105065,0.7894736842105123,0.7894736842105169,0.7894736842105198,0.7894736842105213,0.7894736842105228,0.7894736842105242,0.7894736842105258,0.7894736842105258,0.7894736842105258,0.7894736842105258,0.7894736842105258,0.7894736842105258,0.7894736842105258,0.7894736842105258,0.7894736842105258,0.7894736842105258,0.7894736842105258,0.7894736842105258,0.7894736842105258,0.7894736842105258,0.7894736842105258,0.7894736842105258,0.7894736842105258,0.7894736842105258,0.7894736842105258,0.7894736842105258,0.7894736842105258,0.7894736842105258,0.7894736842105258,0.7894736842105258,0.7894736842105258,0.7894736842105258,0.7894736842105258,0.7894736842105258,0.7894736842105258,0.7894736842105258,0.7894736842105258,0.7894736842105258,0.7894736842105258,0.7894736842105258,0.7894736842105258,0.7894736842105258,0.7894736842105258,0.7894736842105258,0.7894736842105258,0.7894736842105258,0.7894736842105258,0.7894736842105258,0.7894736842105258,0.7894736842105258,0.7894736842105258,0.7894736842105258,0.7894736842105258,0.7894736842105258,0.7894736842105258,0.7894736842105258,0.7894736842105258,0.7894736842105258,0.7894736842105258,0.7894736842105258,0.7894736842105258,0.7894736842105258,0.7894736842105258,0.7894736842105258,0.7894736842105258,0.0,0.0,0.0,0.0,0.0,0.0,0.0,0.0,0.0,0.0,0.0,0.0,0.0,0.0,0.0,0.0,0.0,0.0,0.0,0.0,0.0,0.0,0.0,0.0,0.0,0.0,0.0,0.0,0.0,0.0,0.0,0.0,0.0,0.0,0.0,0.0,0.0,0.0,0.0,0.0]}},\"id\":\"76d4c3ed-4f8b-4fae-a62e-5dec59a5e85b\",\"type\":\"ColumnDataSource\"},{\"attributes\":{\"line_alpha\":{\"value\":0.1},\"line_color\":{\"value\":\"#1f77b4\"},\"line_width\":{\"value\":2},\"x\":{\"field\":\"x\"},\"y\":{\"field\":\"y\"}},\"id\":\"101253ce-6d66-44b3-bb42-07fde5f1ad3f\",\"type\":\"Line\"},{\"attributes\":{\"line_color\":{\"value\":\"yellow\"},\"line_width\":{\"value\":2},\"x\":{\"field\":\"x\"},\"y\":{\"field\":\"y\"}},\"id\":\"12b03ab5-0643-44c2-858e-8998636d02f9\",\"type\":\"Line\"},{\"attributes\":{\"data_source\":{\"id\":\"c2f5bd55-ff1d-410d-85bd-b2eab64c9901\",\"type\":\"ColumnDataSource\"},\"glyph\":{\"id\":\"dc9914c1-ebdd-4ad6-b563-84aff61c13bc\",\"type\":\"Line\"},\"hover_glyph\":null,\"nonselection_glyph\":{\"id\":\"101253ce-6d66-44b3-bb42-07fde5f1ad3f\",\"type\":\"Line\"},\"selection_glyph\":null},\"id\":\"f6a2e153-ca11-4c55-a3b6-989ea9551966\",\"type\":\"GlyphRenderer\"},{\"attributes\":{\"callback\":null,\"column_names\":[\"y\",\"x\"],\"data\":{\"x\":[0,1,2,3,4,5,6,7,8,9,10,11,12,13,14,15,16,17,18,19,20,21,22,23,24,25,26,27,28,29,30,31,32,33,34,35,36,37,38,39,40,41,42,43,44,45,46,47,48,49,50,51,52,53,54,55,56,57,58,59,60,61,62,63,64,65,66,67,68,69,70,71,72,73,74,75,76,77,78,79,80,81,82,83,84,85,86,87,88,89,90,91,92,93,94,95,96,97,98,99,100,101,102,103,104,105,106,107,108,109,110,111,112,113,114,115,116,117,118,119,120,121,122,123,124,125,126,127,128,129,130,131,132,133,134,135,136,137,138,139,140,141,142,143,144,145,146,147,148,149,150,151,152,153,154,155,156,157,158,159,160,161,162,163,164,165,166,167,168,169,170,171,172,173,174,175,176,177,178,179,180,181,182,183,184,185,186,187,188,189,190,191,192,193,194,195,196,197,198,199,200],\"y\":[0.0,0.0,0.0,0.0,0.0,0.0,0.0,0.0,0.0,0.0,0.27999999999999997,0.364,0.3892,0.39676,0.399028,0.3997084,0.39991252,0.399973756,0.3999921268,0.39999763804000005,0.399999291412,0.39999978742360004,0.39999993622708,0.39999998086812405,0.39999999426043725,0.3999999982781312,0.39999999948343934,0.3999999998450318,0.39999999995350954,0.39999999998605285,0.39999999999581587,0.39999999999874475,0.39999999999962343,0.39999999999988706,0.39999999999996616,0.39999999999998986,0.39999999999999697,0.3999999999999991,0.39999999999999974,0.3999999999999999,0.39999999999999997,0.4,0.4,0.4,0.4,0.4,0.4,0.4,0.4,0.4,0.4,0.4,0.4,0.4,0.4,0.4,0.4,0.4,0.4,0.4,0.4,0.4,0.4,0.4,0.4,0.4,0.4,0.4,0.4,0.4,0.4,0.4,0.4,0.4,0.4,0.4,0.4,0.4,0.4,0.4,0.4,0.4,0.4,0.4,0.4,0.4,0.4,0.4,0.4,0.4,0.4,0.4,0.4,0.4,0.4,0.4,0.4,0.4,0.4,0.4,0.4,0.4,0.4,0.4,0.4,0.4,0.4,0.4,0.4,0.4,0.4,0.4,0.4,0.4,0.4,0.4,0.4,0.4,0.4,0.4,0.4,0.4,0.4,0.4,0.4,0.4,0.4,0.4,0.4,0.4,0.4,0.4,0.4,0.4,0.4,0.4,0.4,0.4,0.4,0.4,0.4,0.4,0.4,0.4,0.4,0.4,0.4,0.4,0.4,0.4,0.4,0.4,0.4,0.4,0.4,0.4,0.4,0.4,0.4,0.4,0.12000000000000002,0.03600000000000001,0.010800000000000004,0.0032400000000000016,0.0009720000000000006,0.0002916000000000002,8.748000000000008e-05,2.624400000000003e-05,7.87320000000001e-06,2.3619600000000027e-06,7.085880000000008e-07,2.1257640000000024e-07,6.377292000000008e-08,1.913187600000003e-08,5.73956280000001e-09,1.721868840000003e-09,5.165606520000009e-10,1.5496819560000032e-10,4.6490458680000106e-11,1.3947137604000035e-11,4.184141281200011e-12,1.2552423843600034e-12,3.7657271530800114e-13,1.1297181459240037e-13,3.389154437772012e-14,1.0167463313316038e-14,3.050238993994812e-15,9.150716981984438e-16,2.745215094595332e-16,8.235645283785997e-17,2.4706935851358e-17,7.412080755407402e-18,2.223624226622221e-18,6.670872679866665e-19,2.0012618039599997e-19,6.00378541188e-20,1.8011356235640006e-20,5.403406870692003e-21,1.6210220612076012e-21,4.863066183622804e-22]}},\"id\":\"acdb9940-a8cb-49ce-9ef6-0e5022c4dbd1\",\"type\":\"ColumnDataSource\"}],\"root_ids\":[\"a12cc216-5390-4f0b-8861-b66efcc60021\"]},\"title\":\"Bokeh Application\",\"version\":\"0.12.0\"}};\n",
       "            var render_items = [{\"docid\":\"89d4352b-74ea-4674-94b7-4745e5cf84a4\",\"elementid\":\"4bbe151d-7251-4725-9a3f-5294f5b1d4fc\",\"modelid\":\"a12cc216-5390-4f0b-8861-b66efcc60021\",\"notebook_comms_target\":\"8909b78f-eaa1-4bb8-b378-66136b71e84d\"}];\n",
       "            \n",
       "            Bokeh.embed.embed_items(docs_json, render_items);\n",
       "        });\n",
       "      },\n",
       "      function(Bokeh) {\n",
       "      }\n",
       "    ];\n",
       "  \n",
       "    function run_inline_js() {\n",
       "      for (var i = 0; i < inline_js.length; i++) {\n",
       "        inline_js[i](window.Bokeh);\n",
       "      }\n",
       "    }\n",
       "  \n",
       "    if (window._bokeh_is_loading === 0) {\n",
       "      console.log(\"Bokeh: BokehJS loaded, going straight to plotting\");\n",
       "      run_inline_js();\n",
       "    } else {\n",
       "      load_libs(js_urls, function() {\n",
       "        console.log(\"Bokeh: BokehJS plotting callback run at\", now());\n",
       "        run_inline_js();\n",
       "      });\n",
       "    }\n",
       "  }(this));\n",
       "</script>"
      ]
     },
     "metadata": {},
     "output_type": "display_data"
    }
   ],
   "source": [
    "figdata = graphs.unit_activity_interactive(receiver.logs)\n",
    "\n",
    "# sliders\n",
    "g_bar_e_slider = graphs.floatslider(min=0.0, max=1.0, step=0.01, value=0.40)\n",
    "g_bar_l_slider = graphs.floatslider(min=0.0, max=4.0, step=0.01, value=2.80)\n",
    "e_rev_e_slider = graphs.floatslider(min=0.0, max=1.0, step=0.01, value=1.00)\n",
    "e_rev_l_slider = graphs.floatslider(min=0.1, max=0.3, step=0.001, value=0.15)\n",
    "\n",
    "def regenerate_activity(g_bar_e, g_bar_l, e_rev_e, e_rev_l):\n",
    "    \"\"\"Recompute the graph with given paremeters values\"\"\"\n",
    "    receiver = leabra.Unit()\n",
    "    receiver.spec.g_bar_e = g_bar_e\n",
    "    receiver.spec.g_bar_l = g_bar_l\n",
    "    receiver.spec.e_rev_e = e_rev_e\n",
    "    receiver.spec.e_rev_l = e_rev_l\n",
    "    \n",
    "    for g_e in inputs:\n",
    "        receiver.add_excitatory(g_e)\n",
    "        receiver.cycle()\n",
    "        \n",
    "    graphs.unit_activity_interactive(receiver.logs, figdata=figdata)"
   ]
  },
  {
   "cell_type": "code",
   "execution_count": 7,
   "metadata": {
    "collapsed": false
   },
   "outputs": [],
   "source": [
    "graphs.interact(regenerate_activity, g_bar_e=g_bar_e_slider, g_bar_l=g_bar_l_slider, \n",
    "                                     e_rev_e=e_rev_e_slider, e_rev_l=e_rev_l_slider)"
   ]
  },
  {
   "cell_type": "markdown",
   "metadata": {},
   "source": [
    " "
   ]
  },
  {
   "cell_type": "code",
   "execution_count": null,
   "metadata": {
    "collapsed": true
   },
   "outputs": [],
   "source": []
  }
 ],
 "metadata": {
  "kernelspec": {
   "display_name": "Python 3",
   "language": "python",
   "name": "python3"
  },
  "language_info": {
   "codemirror_mode": {
    "name": "ipython",
    "version": 3
   },
   "file_extension": ".py",
   "mimetype": "text/x-python",
   "name": "python",
   "nbconvert_exporter": "python",
   "pygments_lexer": "ipython3",
   "version": "3.5.2"
  },
  "widgets": {
   "state": {
    "0a2f5f4c108b4e5ab04b7a552ba6b5ea": {
     "views": [
      {
       "cell_index": 12
      }
     ]
    }
   },
   "version": "1.2.0"
  }
 },
 "nbformat": 4,
 "nbformat_minor": 0
}
