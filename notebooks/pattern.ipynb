{
 "cells": [
  {
   "cell_type": "markdown",
   "metadata": {},
   "source": [
    "# Pattern Associator"
   ]
  },
  {
   "cell_type": "markdown",
   "metadata": {},
   "source": [
    "We recreate the network of the [Pattern Associator tutorial from the CECN1 notebook](https://grey.colorado.edu/CompCogNeuro/index.php/CECN1_Pattern_Associator) exploring how the delta rule works and behave. "
   ]
  },
  {
   "cell_type": "code",
   "execution_count": null,
   "metadata": {
    "collapsed": false
   },
   "outputs": [],
   "source": [
    "import numpy as np\n",
    "import dotdot\n",
    "import leabra\n",
    "import graphs"
   ]
  },
  {
   "cell_type": "code",
   "execution_count": null,
   "metadata": {
    "collapsed": true
   },
   "outputs": [],
   "source": [
    "import random\n",
    "random.seed(0)"
   ]
  },
  {
   "cell_type": "code",
   "execution_count": null,
   "metadata": {
    "collapsed": false
   },
   "outputs": [],
   "source": [
    "input_layer  = leabra.Layer(4, name='input_layer')\n",
    "output_spec  = leabra.LayerSpec(g_i=1.5, ff=0.0, fb=0.5, fb_dt=1/1.4, ff0=0.1)\n",
    "output_layer = leabra.Layer(2, spec=output_spec, name='output_layer')"
   ]
  },
  {
   "cell_type": "code",
   "execution_count": null,
   "metadata": {
    "collapsed": false
   },
   "outputs": [],
   "source": [
    "conspec = leabra.ConnectionSpec(proj='full', lrule='leabra', lrate=0.04)\n",
    "conn    = leabra.Connection(input_layer, output_layer, spec=conspec)"
   ]
  },
  {
   "cell_type": "code",
   "execution_count": null,
   "metadata": {
    "collapsed": false
   },
   "outputs": [],
   "source": [
    "conn.weights"
   ]
  },
  {
   "cell_type": "code",
   "execution_count": null,
   "metadata": {
    "collapsed": false
   },
   "outputs": [],
   "source": [
    "network = leabra.Network(layers=[input_layer, output_layer], connections=[conn])"
   ]
  },
  {
   "cell_type": "code",
   "execution_count": null,
   "metadata": {
    "collapsed": true
   },
   "outputs": [],
   "source": [
    "def event(k, network):\n",
    "    \"\"\"Run a minus phase and a plus phase for a given input/output pair\"\"\"\n",
    "    inputs  = [0.0, 0.0, 0.0, 0.0]\n",
    "    outputs = [0.0, 0.0]\n",
    "    inputs[k] = 1.0\n",
    "    outputs[int(k/2)] = 1.0  # desired output\n",
    "\n",
    "    network.set_inputs({'input_layer': inputs})\n",
    "    network.set_outputs({'output_layer': outputs})\n",
    "\n",
    "    # minus phase\n",
    "    for _ in range(3):\n",
    "        network.quarter()\n",
    "        print('g_e', output_layer.g_e)\n",
    "        print('v_m', output_layer.v_m)\n",
    "        print('v_m_eq', [u.v_m_eq for u in output_layer.units])\n",
    "        print('force', output_layer.forced_unit)\n",
    "        print('act', output_layer.activities)\n",
    "#        print(input_layer.activities)\n",
    "        print([u.avg_s_eff for u in input_layer.units])\n",
    "        \n",
    "    error = sum((np.array(output_layer.activities) - outputs)**2) \n",
    "\n",
    "    # plus phase: the output is set directly\n",
    "    network.quarter()\n",
    "    \n",
    "    return error"
   ]
  },
  {
   "cell_type": "code",
   "execution_count": null,
   "metadata": {
    "collapsed": false
   },
   "outputs": [],
   "source": [
    "conn.weights\n",
    "print(output_layer.connections)"
   ]
  },
  {
   "cell_type": "code",
   "execution_count": null,
   "metadata": {
    "collapsed": false
   },
   "outputs": [],
   "source": [
    "event(0, network)"
   ]
  },
  {
   "cell_type": "code",
   "execution_count": null,
   "metadata": {
    "collapsed": false
   },
   "outputs": [],
   "source": [
    "conn.weights"
   ]
  },
  {
   "cell_type": "code",
   "execution_count": null,
   "metadata": {
    "collapsed": false
   },
   "outputs": [],
   "source": [
    "def trial():\n",
    "    sse = 0.0\n",
    "    sse += event(0, network)\n",
    "    sse += event(1, network)\n",
    "    sse += event(2, network)\n",
    "    sse += event(3, network)\n",
    "    return sse / 4"
   ]
  },
  {
   "cell_type": "code",
   "execution_count": null,
   "metadata": {
    "collapsed": false
   },
   "outputs": [],
   "source": [
    "err = [trial() for _ in range(20)]"
   ]
  },
  {
   "cell_type": "code",
   "execution_count": null,
   "metadata": {
    "collapsed": false
   },
   "outputs": [],
   "source": [
    "conn.weights"
   ]
  },
  {
   "cell_type": "code",
   "execution_count": null,
   "metadata": {
    "collapsed": false
   },
   "outputs": [],
   "source": [
    "graphs.line(range(1000), err, \"Average error over trials\", width=600)"
   ]
  },
  {
   "cell_type": "markdown",
   "metadata": {},
   "source": [
    " "
   ]
  }
 ],
 "metadata": {
  "kernelspec": {
   "display_name": "Python 3",
   "language": "python",
   "name": "python3"
  },
  "language_info": {
   "codemirror_mode": {
    "name": "ipython",
    "version": 3
   },
   "file_extension": ".py",
   "mimetype": "text/x-python",
   "name": "python",
   "nbconvert_exporter": "python",
   "pygments_lexer": "ipython3",
   "version": "3.5.2"
  }
 },
 "nbformat": 4,
 "nbformat_minor": 0
}
