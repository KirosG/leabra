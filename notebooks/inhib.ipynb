{
 "cells": [
  {
   "cell_type": "markdown",
   "metadata": {},
   "source": [
    "# Inhibition\n",
    "\n",
    "This notebook recreates parts of the [\"Neuron\" tutorial of Chapter 3 of the CCN textbook](https://grey.colorado.edu/CompCogNeuro/index.php/CCNBook/Sims/Neuron/Neuron). It uses the Leabra framework corresponding to [emergent](https://grey.colorado.edu/emergent) 8.1. "
   ]
  },
  {
   "cell_type": "code",
   "execution_count": null,
   "metadata": {},
   "outputs": [],
   "source": [
    "import numpy as np\n",
    "\n",
    "import dotdot\n",
    "import leabra\n",
    "import graphs"
   ]
  },
  {
   "cell_type": "markdown",
   "metadata": {},
   "source": [
    "**Unit, Layer Specs**"
   ]
  },
  {
   "cell_type": "code",
   "execution_count": null,
   "metadata": {},
   "outputs": [],
   "source": [
    "excite_unit_spec = leabra.UnitSpec(adapt_on=False, noisy_act=True, act_thr=0.5, act_gain=100, tau_net=40, \n",
    "                                   g_bar_e=1.0, g_bar_l=0.1, g_bar_i=0.40)\n",
    "inhib_unit_spec  = leabra.UnitSpec(adapt_on=False, noisy_act=True, act_thr=0.4, act_gain=100, tau_net=20, \n",
    "                                   g_bar_e=1.0, g_bar_l=0.1, g_bar_i=0.75)\n",
    "layer_spec   = leabra.LayerSpec(lay_inhib=False)"
   ]
  },
  {
   "cell_type": "markdown",
   "metadata": {},
   "source": [
    "**Connections Specs**"
   ]
  },
  {
   "cell_type": "code",
   "execution_count": null,
   "metadata": {},
   "outputs": [],
   "source": [
    "ffexcite_spec   = leabra.ConnectionSpec(proj='full', rnd_type='uniform',  rnd_mean=0.25, rnd_var=0.2)\n",
    "ffinhib_spec    = leabra.ConnectionSpec(proj='full', rnd_type='gaussian', rnd_mean=0.25, rnd_var=0.2)\n",
    "fbinhib_spec    = leabra.ConnectionSpec(proj='full', rnd_type='uniform',  rnd_mean=0.25, rnd_var=0.2)\n",
    "# inhibitory connection weights are constant at 0.5.\n",
    "inhib_spec      = leabra.ConnectionSpec(proj='full', rnd_type='uniform',  rnd_mean=0.5,  rnd_var=0, inhib=True) \n",
    "inhibinhib_spec = leabra.ConnectionSpec(proj='full', rnd_type='uniform',  rnd_mean=0.5,  rnd_var=0, inhib=False)"
   ]
  },
  {
   "cell_type": "markdown",
   "metadata": {},
   "source": [
    "**Network**"
   ]
  },
  {
   "cell_type": "code",
   "execution_count": null,
   "metadata": {},
   "outputs": [],
   "source": [
    "input_layer  = leabra.Layer(10, spec=layer_spec, unit_spec=excite_unit_spec, name='input_layer')\n",
    "hidden_layer = leabra.Layer(10, spec=layer_spec, unit_spec=excite_unit_spec, name='hidden_layer')\n",
    "inhib_layer  = leabra.Layer( 2, spec=layer_spec, unit_spec=inhib_unit_spec,  name='inhib_layer')"
   ]
  },
  {
   "cell_type": "code",
   "execution_count": null,
   "metadata": {},
   "outputs": [],
   "source": [
    "# I:Input, H:Hidden, i:inhib \n",
    "IH_conn = leabra.Connection(input_layer,  hidden_layer, spec=ffexcite_spec)\n",
    "Ii_conn = leabra.Connection(input_layer,  inhib_layer,  spec=ffinhib_spec)\n",
    "Hi_conn = leabra.Connection(hidden_layer, inhib_layer,  spec=fbinhib_spec)\n",
    "iH_conn = leabra.Connection(inhib_layer,  hidden_layer, spec=inhib_spec)\n",
    "ii_conn = leabra.Connection(inhib_layer,  inhib_layer,  spec=inhibinhib_spec)"
   ]
  },
  {
   "cell_type": "code",
   "execution_count": null,
   "metadata": {},
   "outputs": [],
   "source": [
    "network_spec = leabra.NetworkSpec(quarter_size=50)\n",
    "network = leabra.Network(spec=network_spec,\n",
    "                         layers=[input_layer, hidden_layer, inhib_layer], \n",
    "                         connections=[IH_conn, Ii_conn, Hi_conn, iH_conn, ii_conn])"
   ]
  },
  {
   "cell_type": "markdown",
   "metadata": {},
   "source": [
    "**Input Activity**"
   ]
  },
  {
   "cell_type": "code",
   "execution_count": null,
   "metadata": {},
   "outputs": [],
   "source": [
    "input_activity = 10*[0.0]\n",
    "for i in [4, 8]:#, 17, 21, 28, 31, 32, 33, 35, 38, 43, 46, 47, 52, 56, 60, 61, 67, 73, 77, 82]:\n",
    "    input_activity[i] = 0.95"
   ]
  },
  {
   "cell_type": "code",
   "execution_count": null,
   "metadata": {},
   "outputs": [],
   "source": [
    "network.set_inputs({'input_layer': input_activity})"
   ]
  },
  {
   "cell_type": "markdown",
   "metadata": {},
   "source": [
    "**Running Cycles**"
   ]
  },
  {
   "cell_type": "code",
   "execution_count": null,
   "metadata": {},
   "outputs": [],
   "source": [
    "hidden_acts_avg, inhib_acts_avg = [], []\n",
    "for i in range(200):\n",
    "    network.cycle()\n",
    "    #print(hidden_layer.activities)\n",
    "    hidden_acts_avg.append(np.mean(hidden_layer.activities))\n",
    "    inhib_acts_avg.append(np.mean(inhib_layer.activities))"
   ]
  },
  {
   "cell_type": "code",
   "execution_count": null,
   "metadata": {},
   "outputs": [],
   "source": [
    "fig = graphs.line(range(len(hidden_acts_avg)), hidden_acts_avg, color='black', legend='hidden acts avg', show=False)\n",
    "graphs.line(range(len(inhib_acts_avg)), inhib_acts_avg, fig=fig, color='red', legend='inhib acts avg')"
   ]
  },
  {
   "cell_type": "markdown",
   "metadata": {
    "collapsed": true
   },
   "source": [
    " "
   ]
  }
 ],
 "metadata": {
  "kernelspec": {
   "display_name": "Python 3",
   "language": "python",
   "name": "python3"
  },
  "language_info": {
   "codemirror_mode": {
    "name": "ipython",
    "version": 3
   },
   "file_extension": ".py",
   "mimetype": "text/x-python",
   "name": "python",
   "nbconvert_exporter": "python",
   "pygments_lexer": "ipython3",
   "version": "3.6.2"
  }
 },
 "nbformat": 4,
 "nbformat_minor": 2
}
